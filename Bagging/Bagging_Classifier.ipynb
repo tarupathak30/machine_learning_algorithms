{
  "metadata": {
    "kernelspec": {
      "name": "python3",
      "display_name": "Python 3",
      "language": "python"
    },
    "language_info": {
      "name": "python",
      "version": "3.11.13",
      "mimetype": "text/x-python",
      "codemirror_mode": {
        "name": "ipython",
        "version": 3
      },
      "pygments_lexer": "ipython3",
      "nbconvert_exporter": "python",
      "file_extension": ".py"
    },
    "colab": {
      "provenance": [],
      "name": "Bagging_Classifier",
      "include_colab_link": true
    },
    "kaggle": {
      "accelerator": "none",
      "dataSources": [],
      "dockerImageVersionId": 31089,
      "isInternetEnabled": true,
      "language": "python",
      "sourceType": "notebook",
      "isGpuEnabled": false
    }
  },
  "nbformat_minor": 0,
  "nbformat": 4,
  "cells": [
    {
      "cell_type": "markdown",
      "metadata": {
        "id": "view-in-github",
        "colab_type": "text"
      },
      "source": [
        "<a href=\"https://colab.research.google.com/github/tarupathak30/machine_learning_algorithms/blob/main/Bagging/Bagging_Classifier.ipynb\" target=\"_parent\"><img src=\"https://colab.research.google.com/assets/colab-badge.svg\" alt=\"Open In Colab\"/></a>"
      ]
    },
    {
      "cell_type": "code",
      "source": [
        "from sklearn.datasets import make_classification\n",
        "from sklearn.metrics import accuracy_score\n",
        "from sklearn.ensemble import BaggingClassifier\n",
        "from sklearn.tree import DecisionTreeClassifier\n",
        "from sklearn.svm import SVC\n",
        "from sklearn.model_selection import train_test_split"
      ],
      "metadata": {
        "id": "kCWAzKkEZSvI",
        "trusted": true,
        "execution": {
          "iopub.status.busy": "2025-07-30T10:23:02.316134Z",
          "iopub.execute_input": "2025-07-30T10:23:02.316519Z",
          "iopub.status.idle": "2025-07-30T10:23:03.58867Z",
          "shell.execute_reply.started": "2025-07-30T10:23:02.316482Z",
          "shell.execute_reply": "2025-07-30T10:23:03.587799Z"
        }
      },
      "outputs": [],
      "execution_count": null
    },
    {
      "cell_type": "code",
      "source": [
        "X, y = make_classification(n_samples=10000, n_features=10, n_informative=3)"
      ],
      "metadata": {
        "id": "FoUCLYR5a2HD",
        "trusted": true,
        "execution": {
          "iopub.status.busy": "2025-07-30T10:23:03.590294Z",
          "iopub.execute_input": "2025-07-30T10:23:03.590762Z",
          "iopub.status.idle": "2025-07-30T10:23:03.631081Z",
          "shell.execute_reply.started": "2025-07-30T10:23:03.590706Z",
          "shell.execute_reply": "2025-07-30T10:23:03.630364Z"
        }
      },
      "outputs": [],
      "execution_count": null
    },
    {
      "cell_type": "code",
      "source": [
        "x_train, x_test, y_train, y_test = train_test_split(X, y, test_size=0.2, random_state=42)"
      ],
      "metadata": {
        "id": "h30yP656bBvq",
        "trusted": true,
        "execution": {
          "iopub.status.busy": "2025-07-30T10:23:03.631965Z",
          "iopub.execute_input": "2025-07-30T10:23:03.632223Z",
          "iopub.status.idle": "2025-07-30T10:23:03.638716Z",
          "shell.execute_reply.started": "2025-07-30T10:23:03.632202Z",
          "shell.execute_reply": "2025-07-30T10:23:03.637808Z"
        }
      },
      "outputs": [],
      "execution_count": null
    },
    {
      "cell_type": "code",
      "source": [
        "dt = DecisionTreeClassifier()\n",
        "dt.fit(x_train, y_train)\n",
        "y_pred = dt.predict(x_test)\n",
        "\n",
        "print(\"Accuracy Score : \", accuracy_score(y_test, y_pred))"
      ],
      "metadata": {
        "colab": {
          "base_uri": "https://localhost:8080/"
        },
        "id": "YFhVF7uhbKYG",
        "outputId": "4e3db78b-181a-4d38-d133-0df8cb04351f",
        "trusted": true,
        "execution": {
          "iopub.status.busy": "2025-07-30T10:23:03.639764Z",
          "iopub.execute_input": "2025-07-30T10:23:03.640662Z",
          "iopub.status.idle": "2025-07-30T10:23:03.803116Z",
          "shell.execute_reply.started": "2025-07-30T10:23:03.640631Z",
          "shell.execute_reply": "2025-07-30T10:23:03.802218Z"
        }
      },
      "outputs": [
        {
          "name": "stdout",
          "text": "Accuracy Score :  0.8525\n",
          "output_type": "stream"
        }
      ],
      "execution_count": null
    },
    {
      "cell_type": "markdown",
      "source": [
        "Bagging"
      ],
      "metadata": {
        "id": "P1hlJjaak_3p"
      }
    },
    {
      "cell_type": "code",
      "source": [
        "bag_dtree = BaggingClassifier(\n",
        "    estimator=DecisionTreeClassifier(), #the base model you want to bag(or combine)\n",
        "    n_estimators=500, #n_estimators -> number of base estimators(models) to train\n",
        "    max_samples=0.25, #no.(fraction) of training samples to draw with replacement\n",
        "    #for each individual tree, sample only 25% of the training data(with replacement) to train it\n",
        "    bootstrap=True, #random sampling with replacement\n",
        "    random_state=42\n",
        ")"
      ],
      "metadata": {
        "id": "6vfqLGfAbZxG",
        "trusted": true,
        "execution": {
          "iopub.status.busy": "2025-07-30T10:23:03.805583Z",
          "iopub.execute_input": "2025-07-30T10:23:03.805872Z",
          "iopub.status.idle": "2025-07-30T10:23:03.810721Z",
          "shell.execute_reply.started": "2025-07-30T10:23:03.80585Z",
          "shell.execute_reply": "2025-07-30T10:23:03.809804Z"
        }
      },
      "outputs": [],
      "execution_count": null
    },
    {
      "cell_type": "code",
      "source": [
        "bag_dtree.fit(x_train, y_train)"
      ],
      "metadata": {
        "colab": {
          "base_uri": "https://localhost:8080/",
          "height": 166
        },
        "id": "UAADMzEIlVr_",
        "outputId": "5c3186ae-c202-4efb-8c98-b3b64820c93b",
        "trusted": true,
        "execution": {
          "iopub.status.busy": "2025-07-30T10:23:03.81178Z",
          "iopub.execute_input": "2025-07-30T10:23:03.812074Z",
          "iopub.status.idle": "2025-07-30T10:23:15.114444Z",
          "shell.execute_reply.started": "2025-07-30T10:23:03.812053Z",
          "shell.execute_reply": "2025-07-30T10:23:15.113671Z"
        }
      },
      "outputs": [
        {
          "execution_count": 7,
          "output_type": "execute_result",
          "data": {
            "text/plain": "BaggingClassifier(estimator=DecisionTreeClassifier(), max_samples=0.25,\n                  n_estimators=500, random_state=42)",
            "text/html": "<style>#sk-container-id-1 {color: black;background-color: white;}#sk-container-id-1 pre{padding: 0;}#sk-container-id-1 div.sk-toggleable {background-color: white;}#sk-container-id-1 label.sk-toggleable__label {cursor: pointer;display: block;width: 100%;margin-bottom: 0;padding: 0.3em;box-sizing: border-box;text-align: center;}#sk-container-id-1 label.sk-toggleable__label-arrow:before {content: \"▸\";float: left;margin-right: 0.25em;color: #696969;}#sk-container-id-1 label.sk-toggleable__label-arrow:hover:before {color: black;}#sk-container-id-1 div.sk-estimator:hover label.sk-toggleable__label-arrow:before {color: black;}#sk-container-id-1 div.sk-toggleable__content {max-height: 0;max-width: 0;overflow: hidden;text-align: left;background-color: #f0f8ff;}#sk-container-id-1 div.sk-toggleable__content pre {margin: 0.2em;color: black;border-radius: 0.25em;background-color: #f0f8ff;}#sk-container-id-1 input.sk-toggleable__control:checked~div.sk-toggleable__content {max-height: 200px;max-width: 100%;overflow: auto;}#sk-container-id-1 input.sk-toggleable__control:checked~label.sk-toggleable__label-arrow:before {content: \"▾\";}#sk-container-id-1 div.sk-estimator input.sk-toggleable__control:checked~label.sk-toggleable__label {background-color: #d4ebff;}#sk-container-id-1 div.sk-label input.sk-toggleable__control:checked~label.sk-toggleable__label {background-color: #d4ebff;}#sk-container-id-1 input.sk-hidden--visually {border: 0;clip: rect(1px 1px 1px 1px);clip: rect(1px, 1px, 1px, 1px);height: 1px;margin: -1px;overflow: hidden;padding: 0;position: absolute;width: 1px;}#sk-container-id-1 div.sk-estimator {font-family: monospace;background-color: #f0f8ff;border: 1px dotted black;border-radius: 0.25em;box-sizing: border-box;margin-bottom: 0.5em;}#sk-container-id-1 div.sk-estimator:hover {background-color: #d4ebff;}#sk-container-id-1 div.sk-parallel-item::after {content: \"\";width: 100%;border-bottom: 1px solid gray;flex-grow: 1;}#sk-container-id-1 div.sk-label:hover label.sk-toggleable__label {background-color: #d4ebff;}#sk-container-id-1 div.sk-serial::before {content: \"\";position: absolute;border-left: 1px solid gray;box-sizing: border-box;top: 0;bottom: 0;left: 50%;z-index: 0;}#sk-container-id-1 div.sk-serial {display: flex;flex-direction: column;align-items: center;background-color: white;padding-right: 0.2em;padding-left: 0.2em;position: relative;}#sk-container-id-1 div.sk-item {position: relative;z-index: 1;}#sk-container-id-1 div.sk-parallel {display: flex;align-items: stretch;justify-content: center;background-color: white;position: relative;}#sk-container-id-1 div.sk-item::before, #sk-container-id-1 div.sk-parallel-item::before {content: \"\";position: absolute;border-left: 1px solid gray;box-sizing: border-box;top: 0;bottom: 0;left: 50%;z-index: -1;}#sk-container-id-1 div.sk-parallel-item {display: flex;flex-direction: column;z-index: 1;position: relative;background-color: white;}#sk-container-id-1 div.sk-parallel-item:first-child::after {align-self: flex-end;width: 50%;}#sk-container-id-1 div.sk-parallel-item:last-child::after {align-self: flex-start;width: 50%;}#sk-container-id-1 div.sk-parallel-item:only-child::after {width: 0;}#sk-container-id-1 div.sk-dashed-wrapped {border: 1px dashed gray;margin: 0 0.4em 0.5em 0.4em;box-sizing: border-box;padding-bottom: 0.4em;background-color: white;}#sk-container-id-1 div.sk-label label {font-family: monospace;font-weight: bold;display: inline-block;line-height: 1.2em;}#sk-container-id-1 div.sk-label-container {text-align: center;}#sk-container-id-1 div.sk-container {/* jupyter's `normalize.less` sets `[hidden] { display: none; }` but bootstrap.min.css set `[hidden] { display: none !important; }` so we also need the `!important` here to be able to override the default hidden behavior on the sphinx rendered scikit-learn.org. See: https://github.com/scikit-learn/scikit-learn/issues/21755 */display: inline-block !important;position: relative;}#sk-container-id-1 div.sk-text-repr-fallback {display: none;}</style><div id=\"sk-container-id-1\" class=\"sk-top-container\"><div class=\"sk-text-repr-fallback\"><pre>BaggingClassifier(estimator=DecisionTreeClassifier(), max_samples=0.25,\n                  n_estimators=500, random_state=42)</pre><b>In a Jupyter environment, please rerun this cell to show the HTML representation or trust the notebook. <br />On GitHub, the HTML representation is unable to render, please try loading this page with nbviewer.org.</b></div><div class=\"sk-container\" hidden><div class=\"sk-item sk-dashed-wrapped\"><div class=\"sk-label-container\"><div class=\"sk-label sk-toggleable\"><input class=\"sk-toggleable__control sk-hidden--visually\" id=\"sk-estimator-id-1\" type=\"checkbox\" ><label for=\"sk-estimator-id-1\" class=\"sk-toggleable__label sk-toggleable__label-arrow\">BaggingClassifier</label><div class=\"sk-toggleable__content\"><pre>BaggingClassifier(estimator=DecisionTreeClassifier(), max_samples=0.25,\n                  n_estimators=500, random_state=42)</pre></div></div></div><div class=\"sk-parallel\"><div class=\"sk-parallel-item\"><div class=\"sk-item\"><div class=\"sk-label-container\"><div class=\"sk-label sk-toggleable\"><input class=\"sk-toggleable__control sk-hidden--visually\" id=\"sk-estimator-id-2\" type=\"checkbox\" ><label for=\"sk-estimator-id-2\" class=\"sk-toggleable__label sk-toggleable__label-arrow\">estimator: DecisionTreeClassifier</label><div class=\"sk-toggleable__content\"><pre>DecisionTreeClassifier()</pre></div></div></div><div class=\"sk-serial\"><div class=\"sk-item\"><div class=\"sk-estimator sk-toggleable\"><input class=\"sk-toggleable__control sk-hidden--visually\" id=\"sk-estimator-id-3\" type=\"checkbox\" ><label for=\"sk-estimator-id-3\" class=\"sk-toggleable__label sk-toggleable__label-arrow\">DecisionTreeClassifier</label><div class=\"sk-toggleable__content\"><pre>DecisionTreeClassifier()</pre></div></div></div></div></div></div></div></div></div></div>"
          },
          "metadata": {}
        }
      ],
      "execution_count": null
    },
    {
      "cell_type": "code",
      "source": [
        "y_pred = bag_dtree.predict(x_test)"
      ],
      "metadata": {
        "id": "57YHVlLNltXo",
        "trusted": true,
        "execution": {
          "iopub.status.busy": "2025-07-30T10:23:15.115537Z",
          "iopub.execute_input": "2025-07-30T10:23:15.115885Z",
          "iopub.status.idle": "2025-07-30T10:23:15.310174Z",
          "shell.execute_reply.started": "2025-07-30T10:23:15.115846Z",
          "shell.execute_reply": "2025-07-30T10:23:15.309472Z"
        }
      },
      "outputs": [],
      "execution_count": null
    },
    {
      "cell_type": "code",
      "source": [
        "print(\"Accuracy Score : \", accuracy_score(y_test, y_pred))"
      ],
      "metadata": {
        "colab": {
          "base_uri": "https://localhost:8080/"
        },
        "id": "VIXMYtQKpIB1",
        "outputId": "5f29b0bc-ed87-43eb-e00d-7ed2f97ce1d8",
        "trusted": true,
        "execution": {
          "iopub.status.busy": "2025-07-30T10:23:15.311106Z",
          "iopub.execute_input": "2025-07-30T10:23:15.311535Z",
          "iopub.status.idle": "2025-07-30T10:23:15.318035Z",
          "shell.execute_reply.started": "2025-07-30T10:23:15.311512Z",
          "shell.execute_reply": "2025-07-30T10:23:15.317156Z"
        }
      },
      "outputs": [
        {
          "name": "stdout",
          "text": "Accuracy Score :  0.9045\n",
          "output_type": "stream"
        }
      ],
      "execution_count": null
    },
    {
      "cell_type": "markdown",
      "source": [
        "Bagging using SVM"
      ],
      "metadata": {
        "id": "s-dJzf_yosUz"
      }
    },
    {
      "cell_type": "code",
      "source": [
        "bag_SVC = BaggingClassifier(\n",
        "    estimator=SVC(),\n",
        "    n_estimators=500,\n",
        "    max_samples=0.25,\n",
        "    bootstrap=True,\n",
        "    random_state=42\n",
        ")"
      ],
      "metadata": {
        "id": "RhAffpq4n0cQ",
        "trusted": true,
        "execution": {
          "iopub.status.busy": "2025-07-30T10:23:15.318825Z",
          "iopub.execute_input": "2025-07-30T10:23:15.319024Z",
          "iopub.status.idle": "2025-07-30T10:23:15.338644Z",
          "shell.execute_reply.started": "2025-07-30T10:23:15.319007Z",
          "shell.execute_reply": "2025-07-30T10:23:15.33764Z"
        }
      },
      "outputs": [],
      "execution_count": null
    },
    {
      "cell_type": "code",
      "source": [
        "bag_SVC.fit(x_train, y_train)"
      ],
      "metadata": {
        "colab": {
          "base_uri": "https://localhost:8080/",
          "height": 183
        },
        "id": "Q84uhzQtpACw",
        "outputId": "c9bf1914-fe98-488b-81f7-a55da2892d46",
        "trusted": true,
        "execution": {
          "iopub.status.busy": "2025-07-30T10:23:15.339679Z",
          "iopub.execute_input": "2025-07-30T10:23:15.339966Z",
          "iopub.status.idle": "2025-07-30T10:23:48.320834Z",
          "shell.execute_reply.started": "2025-07-30T10:23:15.339943Z",
          "shell.execute_reply": "2025-07-30T10:23:48.31976Z"
        }
      },
      "outputs": [
        {
          "execution_count": 11,
          "output_type": "execute_result",
          "data": {
            "text/plain": "BaggingClassifier(estimator=SVC(), max_samples=0.25, n_estimators=500,\n                  random_state=42)",
            "text/html": "<style>#sk-container-id-2 {color: black;background-color: white;}#sk-container-id-2 pre{padding: 0;}#sk-container-id-2 div.sk-toggleable {background-color: white;}#sk-container-id-2 label.sk-toggleable__label {cursor: pointer;display: block;width: 100%;margin-bottom: 0;padding: 0.3em;box-sizing: border-box;text-align: center;}#sk-container-id-2 label.sk-toggleable__label-arrow:before {content: \"▸\";float: left;margin-right: 0.25em;color: #696969;}#sk-container-id-2 label.sk-toggleable__label-arrow:hover:before {color: black;}#sk-container-id-2 div.sk-estimator:hover label.sk-toggleable__label-arrow:before {color: black;}#sk-container-id-2 div.sk-toggleable__content {max-height: 0;max-width: 0;overflow: hidden;text-align: left;background-color: #f0f8ff;}#sk-container-id-2 div.sk-toggleable__content pre {margin: 0.2em;color: black;border-radius: 0.25em;background-color: #f0f8ff;}#sk-container-id-2 input.sk-toggleable__control:checked~div.sk-toggleable__content {max-height: 200px;max-width: 100%;overflow: auto;}#sk-container-id-2 input.sk-toggleable__control:checked~label.sk-toggleable__label-arrow:before {content: \"▾\";}#sk-container-id-2 div.sk-estimator input.sk-toggleable__control:checked~label.sk-toggleable__label {background-color: #d4ebff;}#sk-container-id-2 div.sk-label input.sk-toggleable__control:checked~label.sk-toggleable__label {background-color: #d4ebff;}#sk-container-id-2 input.sk-hidden--visually {border: 0;clip: rect(1px 1px 1px 1px);clip: rect(1px, 1px, 1px, 1px);height: 1px;margin: -1px;overflow: hidden;padding: 0;position: absolute;width: 1px;}#sk-container-id-2 div.sk-estimator {font-family: monospace;background-color: #f0f8ff;border: 1px dotted black;border-radius: 0.25em;box-sizing: border-box;margin-bottom: 0.5em;}#sk-container-id-2 div.sk-estimator:hover {background-color: #d4ebff;}#sk-container-id-2 div.sk-parallel-item::after {content: \"\";width: 100%;border-bottom: 1px solid gray;flex-grow: 1;}#sk-container-id-2 div.sk-label:hover label.sk-toggleable__label {background-color: #d4ebff;}#sk-container-id-2 div.sk-serial::before {content: \"\";position: absolute;border-left: 1px solid gray;box-sizing: border-box;top: 0;bottom: 0;left: 50%;z-index: 0;}#sk-container-id-2 div.sk-serial {display: flex;flex-direction: column;align-items: center;background-color: white;padding-right: 0.2em;padding-left: 0.2em;position: relative;}#sk-container-id-2 div.sk-item {position: relative;z-index: 1;}#sk-container-id-2 div.sk-parallel {display: flex;align-items: stretch;justify-content: center;background-color: white;position: relative;}#sk-container-id-2 div.sk-item::before, #sk-container-id-2 div.sk-parallel-item::before {content: \"\";position: absolute;border-left: 1px solid gray;box-sizing: border-box;top: 0;bottom: 0;left: 50%;z-index: -1;}#sk-container-id-2 div.sk-parallel-item {display: flex;flex-direction: column;z-index: 1;position: relative;background-color: white;}#sk-container-id-2 div.sk-parallel-item:first-child::after {align-self: flex-end;width: 50%;}#sk-container-id-2 div.sk-parallel-item:last-child::after {align-self: flex-start;width: 50%;}#sk-container-id-2 div.sk-parallel-item:only-child::after {width: 0;}#sk-container-id-2 div.sk-dashed-wrapped {border: 1px dashed gray;margin: 0 0.4em 0.5em 0.4em;box-sizing: border-box;padding-bottom: 0.4em;background-color: white;}#sk-container-id-2 div.sk-label label {font-family: monospace;font-weight: bold;display: inline-block;line-height: 1.2em;}#sk-container-id-2 div.sk-label-container {text-align: center;}#sk-container-id-2 div.sk-container {/* jupyter's `normalize.less` sets `[hidden] { display: none; }` but bootstrap.min.css set `[hidden] { display: none !important; }` so we also need the `!important` here to be able to override the default hidden behavior on the sphinx rendered scikit-learn.org. See: https://github.com/scikit-learn/scikit-learn/issues/21755 */display: inline-block !important;position: relative;}#sk-container-id-2 div.sk-text-repr-fallback {display: none;}</style><div id=\"sk-container-id-2\" class=\"sk-top-container\"><div class=\"sk-text-repr-fallback\"><pre>BaggingClassifier(estimator=SVC(), max_samples=0.25, n_estimators=500,\n                  random_state=42)</pre><b>In a Jupyter environment, please rerun this cell to show the HTML representation or trust the notebook. <br />On GitHub, the HTML representation is unable to render, please try loading this page with nbviewer.org.</b></div><div class=\"sk-container\" hidden><div class=\"sk-item sk-dashed-wrapped\"><div class=\"sk-label-container\"><div class=\"sk-label sk-toggleable\"><input class=\"sk-toggleable__control sk-hidden--visually\" id=\"sk-estimator-id-4\" type=\"checkbox\" ><label for=\"sk-estimator-id-4\" class=\"sk-toggleable__label sk-toggleable__label-arrow\">BaggingClassifier</label><div class=\"sk-toggleable__content\"><pre>BaggingClassifier(estimator=SVC(), max_samples=0.25, n_estimators=500,\n                  random_state=42)</pre></div></div></div><div class=\"sk-parallel\"><div class=\"sk-parallel-item\"><div class=\"sk-item\"><div class=\"sk-label-container\"><div class=\"sk-label sk-toggleable\"><input class=\"sk-toggleable__control sk-hidden--visually\" id=\"sk-estimator-id-5\" type=\"checkbox\" ><label for=\"sk-estimator-id-5\" class=\"sk-toggleable__label sk-toggleable__label-arrow\">estimator: SVC</label><div class=\"sk-toggleable__content\"><pre>SVC()</pre></div></div></div><div class=\"sk-serial\"><div class=\"sk-item\"><div class=\"sk-estimator sk-toggleable\"><input class=\"sk-toggleable__control sk-hidden--visually\" id=\"sk-estimator-id-6\" type=\"checkbox\" ><label for=\"sk-estimator-id-6\" class=\"sk-toggleable__label sk-toggleable__label-arrow\">SVC</label><div class=\"sk-toggleable__content\"><pre>SVC()</pre></div></div></div></div></div></div></div></div></div></div>"
          },
          "metadata": {}
        }
      ],
      "execution_count": null
    },
    {
      "cell_type": "code",
      "source": [
        "bag_SVC.predict(x_test)"
      ],
      "metadata": {
        "colab": {
          "base_uri": "https://localhost:8080/"
        },
        "id": "4aS7Gu03pT3_",
        "outputId": "d5c009df-25f8-4b78-a0e8-f7ce47c840f6",
        "trusted": true,
        "execution": {
          "iopub.status.busy": "2025-07-30T10:23:48.321679Z",
          "iopub.execute_input": "2025-07-30T10:23:48.321964Z",
          "iopub.status.idle": "2025-07-30T10:24:23.268765Z",
          "shell.execute_reply.started": "2025-07-30T10:23:48.321943Z",
          "shell.execute_reply": "2025-07-30T10:24:23.268021Z"
        }
      },
      "outputs": [
        {
          "execution_count": 12,
          "output_type": "execute_result",
          "data": {
            "text/plain": "array([0, 1, 0, ..., 0, 1, 0])"
          },
          "metadata": {}
        }
      ],
      "execution_count": null
    },
    {
      "cell_type": "code",
      "source": [
        "print(\"Accuracy Score : \", accuracy_score(y_test, y_pred))"
      ],
      "metadata": {
        "colab": {
          "base_uri": "https://localhost:8080/"
        },
        "id": "1SqTsLzIpsc2",
        "outputId": "83098d6d-81d8-4b3d-ddb2-940e67ed57f0",
        "trusted": true,
        "execution": {
          "iopub.status.busy": "2025-07-30T10:24:23.269595Z",
          "iopub.execute_input": "2025-07-30T10:24:23.269849Z",
          "iopub.status.idle": "2025-07-30T10:24:23.276669Z",
          "shell.execute_reply.started": "2025-07-30T10:24:23.26983Z",
          "shell.execute_reply": "2025-07-30T10:24:23.275751Z"
        }
      },
      "outputs": [
        {
          "name": "stdout",
          "text": "Accuracy Score :  0.9045\n",
          "output_type": "stream"
        }
      ],
      "execution_count": null
    },
    {
      "cell_type": "markdown",
      "source": [
        "Random Subspaces\n"
      ],
      "metadata": {
        "id": "LAOePdPUrjwW"
      }
    },
    {
      "cell_type": "code",
      "source": [
        "bag_columns = BaggingClassifier(\n",
        "    estimator = DecisionTreeClassifier(),\n",
        "    n_estimators=500,\n",
        "    max_samples=1.0,\n",
        "    bootstrap=False,\n",
        "    max_features=0.5,\n",
        "    bootstrap_features=True,\n",
        "    random_state=42\n",
        ")"
      ],
      "metadata": {
        "id": "2F6zx-EXp4zW",
        "trusted": true,
        "execution": {
          "iopub.status.busy": "2025-07-30T10:24:23.277708Z",
          "iopub.execute_input": "2025-07-30T10:24:23.278035Z",
          "iopub.status.idle": "2025-07-30T10:24:23.300947Z",
          "shell.execute_reply.started": "2025-07-30T10:24:23.278008Z",
          "shell.execute_reply": "2025-07-30T10:24:23.299776Z"
        }
      },
      "outputs": [],
      "execution_count": null
    },
    {
      "cell_type": "code",
      "source": [
        "bag_columns.fit(x_train, y_train)"
      ],
      "metadata": {
        "id": "-gg8fmBFqlA2",
        "colab": {
          "base_uri": "https://localhost:8080/",
          "height": 166
        },
        "outputId": "84de463d-8bea-46e5-fd2d-1900a0e7495c",
        "trusted": true,
        "execution": {
          "iopub.status.busy": "2025-07-30T10:24:23.306983Z",
          "iopub.execute_input": "2025-07-30T10:24:23.307243Z",
          "iopub.status.idle": "2025-07-30T10:25:04.616934Z",
          "shell.execute_reply.started": "2025-07-30T10:24:23.307223Z",
          "shell.execute_reply": "2025-07-30T10:25:04.616045Z"
        }
      },
      "outputs": [
        {
          "execution_count": 15,
          "output_type": "execute_result",
          "data": {
            "text/plain": "BaggingClassifier(bootstrap=False, bootstrap_features=True,\n                  estimator=DecisionTreeClassifier(), max_features=0.5,\n                  n_estimators=500, random_state=42)",
            "text/html": "<style>#sk-container-id-3 {color: black;background-color: white;}#sk-container-id-3 pre{padding: 0;}#sk-container-id-3 div.sk-toggleable {background-color: white;}#sk-container-id-3 label.sk-toggleable__label {cursor: pointer;display: block;width: 100%;margin-bottom: 0;padding: 0.3em;box-sizing: border-box;text-align: center;}#sk-container-id-3 label.sk-toggleable__label-arrow:before {content: \"▸\";float: left;margin-right: 0.25em;color: #696969;}#sk-container-id-3 label.sk-toggleable__label-arrow:hover:before {color: black;}#sk-container-id-3 div.sk-estimator:hover label.sk-toggleable__label-arrow:before {color: black;}#sk-container-id-3 div.sk-toggleable__content {max-height: 0;max-width: 0;overflow: hidden;text-align: left;background-color: #f0f8ff;}#sk-container-id-3 div.sk-toggleable__content pre {margin: 0.2em;color: black;border-radius: 0.25em;background-color: #f0f8ff;}#sk-container-id-3 input.sk-toggleable__control:checked~div.sk-toggleable__content {max-height: 200px;max-width: 100%;overflow: auto;}#sk-container-id-3 input.sk-toggleable__control:checked~label.sk-toggleable__label-arrow:before {content: \"▾\";}#sk-container-id-3 div.sk-estimator input.sk-toggleable__control:checked~label.sk-toggleable__label {background-color: #d4ebff;}#sk-container-id-3 div.sk-label input.sk-toggleable__control:checked~label.sk-toggleable__label {background-color: #d4ebff;}#sk-container-id-3 input.sk-hidden--visually {border: 0;clip: rect(1px 1px 1px 1px);clip: rect(1px, 1px, 1px, 1px);height: 1px;margin: -1px;overflow: hidden;padding: 0;position: absolute;width: 1px;}#sk-container-id-3 div.sk-estimator {font-family: monospace;background-color: #f0f8ff;border: 1px dotted black;border-radius: 0.25em;box-sizing: border-box;margin-bottom: 0.5em;}#sk-container-id-3 div.sk-estimator:hover {background-color: #d4ebff;}#sk-container-id-3 div.sk-parallel-item::after {content: \"\";width: 100%;border-bottom: 1px solid gray;flex-grow: 1;}#sk-container-id-3 div.sk-label:hover label.sk-toggleable__label {background-color: #d4ebff;}#sk-container-id-3 div.sk-serial::before {content: \"\";position: absolute;border-left: 1px solid gray;box-sizing: border-box;top: 0;bottom: 0;left: 50%;z-index: 0;}#sk-container-id-3 div.sk-serial {display: flex;flex-direction: column;align-items: center;background-color: white;padding-right: 0.2em;padding-left: 0.2em;position: relative;}#sk-container-id-3 div.sk-item {position: relative;z-index: 1;}#sk-container-id-3 div.sk-parallel {display: flex;align-items: stretch;justify-content: center;background-color: white;position: relative;}#sk-container-id-3 div.sk-item::before, #sk-container-id-3 div.sk-parallel-item::before {content: \"\";position: absolute;border-left: 1px solid gray;box-sizing: border-box;top: 0;bottom: 0;left: 50%;z-index: -1;}#sk-container-id-3 div.sk-parallel-item {display: flex;flex-direction: column;z-index: 1;position: relative;background-color: white;}#sk-container-id-3 div.sk-parallel-item:first-child::after {align-self: flex-end;width: 50%;}#sk-container-id-3 div.sk-parallel-item:last-child::after {align-self: flex-start;width: 50%;}#sk-container-id-3 div.sk-parallel-item:only-child::after {width: 0;}#sk-container-id-3 div.sk-dashed-wrapped {border: 1px dashed gray;margin: 0 0.4em 0.5em 0.4em;box-sizing: border-box;padding-bottom: 0.4em;background-color: white;}#sk-container-id-3 div.sk-label label {font-family: monospace;font-weight: bold;display: inline-block;line-height: 1.2em;}#sk-container-id-3 div.sk-label-container {text-align: center;}#sk-container-id-3 div.sk-container {/* jupyter's `normalize.less` sets `[hidden] { display: none; }` but bootstrap.min.css set `[hidden] { display: none !important; }` so we also need the `!important` here to be able to override the default hidden behavior on the sphinx rendered scikit-learn.org. See: https://github.com/scikit-learn/scikit-learn/issues/21755 */display: inline-block !important;position: relative;}#sk-container-id-3 div.sk-text-repr-fallback {display: none;}</style><div id=\"sk-container-id-3\" class=\"sk-top-container\"><div class=\"sk-text-repr-fallback\"><pre>BaggingClassifier(bootstrap=False, bootstrap_features=True,\n                  estimator=DecisionTreeClassifier(), max_features=0.5,\n                  n_estimators=500, random_state=42)</pre><b>In a Jupyter environment, please rerun this cell to show the HTML representation or trust the notebook. <br />On GitHub, the HTML representation is unable to render, please try loading this page with nbviewer.org.</b></div><div class=\"sk-container\" hidden><div class=\"sk-item sk-dashed-wrapped\"><div class=\"sk-label-container\"><div class=\"sk-label sk-toggleable\"><input class=\"sk-toggleable__control sk-hidden--visually\" id=\"sk-estimator-id-7\" type=\"checkbox\" ><label for=\"sk-estimator-id-7\" class=\"sk-toggleable__label sk-toggleable__label-arrow\">BaggingClassifier</label><div class=\"sk-toggleable__content\"><pre>BaggingClassifier(bootstrap=False, bootstrap_features=True,\n                  estimator=DecisionTreeClassifier(), max_features=0.5,\n                  n_estimators=500, random_state=42)</pre></div></div></div><div class=\"sk-parallel\"><div class=\"sk-parallel-item\"><div class=\"sk-item\"><div class=\"sk-label-container\"><div class=\"sk-label sk-toggleable\"><input class=\"sk-toggleable__control sk-hidden--visually\" id=\"sk-estimator-id-8\" type=\"checkbox\" ><label for=\"sk-estimator-id-8\" class=\"sk-toggleable__label sk-toggleable__label-arrow\">estimator: DecisionTreeClassifier</label><div class=\"sk-toggleable__content\"><pre>DecisionTreeClassifier()</pre></div></div></div><div class=\"sk-serial\"><div class=\"sk-item\"><div class=\"sk-estimator sk-toggleable\"><input class=\"sk-toggleable__control sk-hidden--visually\" id=\"sk-estimator-id-9\" type=\"checkbox\" ><label for=\"sk-estimator-id-9\" class=\"sk-toggleable__label sk-toggleable__label-arrow\">DecisionTreeClassifier</label><div class=\"sk-toggleable__content\"><pre>DecisionTreeClassifier()</pre></div></div></div></div></div></div></div></div></div></div>"
          },
          "metadata": {}
        }
      ],
      "execution_count": null
    },
    {
      "cell_type": "code",
      "source": [
        "y_pred = bag_columns.predict(x_test)"
      ],
      "metadata": {
        "id": "ZU1zuE_ss8jE",
        "trusted": true,
        "execution": {
          "iopub.status.busy": "2025-07-30T10:25:04.61785Z",
          "iopub.execute_input": "2025-07-30T10:25:04.618159Z",
          "iopub.status.idle": "2025-07-30T10:25:04.87752Z",
          "shell.execute_reply.started": "2025-07-30T10:25:04.618134Z",
          "shell.execute_reply": "2025-07-30T10:25:04.876464Z"
        }
      },
      "outputs": [],
      "execution_count": null
    },
    {
      "cell_type": "code",
      "source": [
        "print(\"Random Subspaces Classifier\", accuracy_score(y_test, y_pred))"
      ],
      "metadata": {
        "colab": {
          "base_uri": "https://localhost:8080/"
        },
        "id": "ryp5qufDtMB7",
        "outputId": "7b1dbbf2-c6da-45cb-90e3-a8fd313c9fbf",
        "trusted": true,
        "execution": {
          "iopub.status.busy": "2025-07-30T10:25:04.878427Z",
          "iopub.execute_input": "2025-07-30T10:25:04.878696Z",
          "iopub.status.idle": "2025-07-30T10:25:04.885574Z",
          "shell.execute_reply.started": "2025-07-30T10:25:04.878675Z",
          "shell.execute_reply": "2025-07-30T10:25:04.884747Z"
        }
      },
      "outputs": [
        {
          "name": "stdout",
          "text": "Random Subspaces Classifier 0.889\n",
          "output_type": "stream"
        }
      ],
      "execution_count": null
    },
    {
      "cell_type": "code",
      "source": [
        "bag_columns.estimators_samples_[0].shape"
      ],
      "metadata": {
        "colab": {
          "base_uri": "https://localhost:8080/"
        },
        "id": "dxhiZP1BtS3j",
        "outputId": "667576d5-31a4-4f99-a177-a3134f95cee7",
        "trusted": true,
        "execution": {
          "iopub.status.busy": "2025-07-30T10:25:04.886637Z",
          "iopub.execute_input": "2025-07-30T10:25:04.886997Z",
          "iopub.status.idle": "2025-07-30T10:25:05.083932Z",
          "shell.execute_reply.started": "2025-07-30T10:25:04.886969Z",
          "shell.execute_reply": "2025-07-30T10:25:05.082968Z"
        }
      },
      "outputs": [
        {
          "execution_count": 18,
          "output_type": "execute_result",
          "data": {
            "text/plain": "(8000,)"
          },
          "metadata": {}
        }
      ],
      "execution_count": null
    },
    {
      "cell_type": "code",
      "source": [
        "bag_columns.estimators_features_[0].shape"
      ],
      "metadata": {
        "colab": {
          "base_uri": "https://localhost:8080/"
        },
        "id": "3Wb9NVtctfCI",
        "outputId": "1b8d1b64-87b5-4b25-f1c4-e7f6b4979fa1",
        "trusted": true,
        "execution": {
          "iopub.status.busy": "2025-07-30T10:25:05.0848Z",
          "iopub.execute_input": "2025-07-30T10:25:05.085065Z",
          "iopub.status.idle": "2025-07-30T10:25:05.091569Z",
          "shell.execute_reply.started": "2025-07-30T10:25:05.085044Z",
          "shell.execute_reply": "2025-07-30T10:25:05.09078Z"
        }
      },
      "outputs": [
        {
          "execution_count": 19,
          "output_type": "execute_result",
          "data": {
            "text/plain": "(5,)"
          },
          "metadata": {}
        }
      ],
      "execution_count": null
    },
    {
      "cell_type": "code",
      "source": [
        "bag_columns.estimators_features_[1].shape"
      ],
      "metadata": {
        "colab": {
          "base_uri": "https://localhost:8080/"
        },
        "id": "q1zalKSftlfc",
        "outputId": "cdd01f0a-c1de-4d38-cff6-8155eaff3bd5",
        "trusted": true,
        "execution": {
          "iopub.status.busy": "2025-07-30T10:25:05.092483Z",
          "iopub.execute_input": "2025-07-30T10:25:05.092757Z",
          "iopub.status.idle": "2025-07-30T10:25:05.117173Z",
          "shell.execute_reply.started": "2025-07-30T10:25:05.092711Z",
          "shell.execute_reply": "2025-07-30T10:25:05.116346Z"
        }
      },
      "outputs": [
        {
          "execution_count": 20,
          "output_type": "execute_result",
          "data": {
            "text/plain": "(5,)"
          },
          "metadata": {}
        }
      ],
      "execution_count": null
    },
    {
      "cell_type": "markdown",
      "source": [
        "Random Patches ----> Row Sampling + Column Sampling\n"
      ],
      "metadata": {
        "id": "5mSAL5rQtwSU"
      }
    },
    {
      "cell_type": "code",
      "source": [
        "bag_columns_rows = BaggingClassifier(\n",
        "    estimator=DecisionTreeClassifier(),\n",
        "    n_estimators=500,\n",
        "    max_samples=0.25,\n",
        "    bootstrap=True,\n",
        "    max_features=0.5,\n",
        "    bootstrap_features=True,\n",
        "    random_state=42\n",
        ")"
      ],
      "metadata": {
        "id": "v-i0P2f3tphC",
        "trusted": true,
        "execution": {
          "iopub.status.busy": "2025-07-30T10:25:05.11829Z",
          "iopub.execute_input": "2025-07-30T10:25:05.118617Z",
          "iopub.status.idle": "2025-07-30T10:25:05.139368Z",
          "shell.execute_reply.started": "2025-07-30T10:25:05.11859Z",
          "shell.execute_reply": "2025-07-30T10:25:05.138424Z"
        }
      },
      "outputs": [],
      "execution_count": null
    },
    {
      "cell_type": "code",
      "source": [
        "bag_columns_rows.fit(x_train, y_train)"
      ],
      "metadata": {
        "colab": {
          "base_uri": "https://localhost:8080/",
          "height": 166
        },
        "id": "aKqD8IRwuG56",
        "outputId": "0ff1bff0-1fc1-4c56-8ed9-6af77c0b1b82",
        "trusted": true,
        "execution": {
          "iopub.status.busy": "2025-07-30T10:25:05.140363Z",
          "iopub.execute_input": "2025-07-30T10:25:05.140692Z",
          "iopub.status.idle": "2025-07-30T10:25:12.001267Z",
          "shell.execute_reply.started": "2025-07-30T10:25:05.140665Z",
          "shell.execute_reply": "2025-07-30T10:25:12.000189Z"
        }
      },
      "outputs": [
        {
          "execution_count": 22,
          "output_type": "execute_result",
          "data": {
            "text/plain": "BaggingClassifier(bootstrap_features=True, estimator=DecisionTreeClassifier(),\n                  max_features=0.5, max_samples=0.25, n_estimators=500,\n                  random_state=42)",
            "text/html": "<style>#sk-container-id-4 {color: black;background-color: white;}#sk-container-id-4 pre{padding: 0;}#sk-container-id-4 div.sk-toggleable {background-color: white;}#sk-container-id-4 label.sk-toggleable__label {cursor: pointer;display: block;width: 100%;margin-bottom: 0;padding: 0.3em;box-sizing: border-box;text-align: center;}#sk-container-id-4 label.sk-toggleable__label-arrow:before {content: \"▸\";float: left;margin-right: 0.25em;color: #696969;}#sk-container-id-4 label.sk-toggleable__label-arrow:hover:before {color: black;}#sk-container-id-4 div.sk-estimator:hover label.sk-toggleable__label-arrow:before {color: black;}#sk-container-id-4 div.sk-toggleable__content {max-height: 0;max-width: 0;overflow: hidden;text-align: left;background-color: #f0f8ff;}#sk-container-id-4 div.sk-toggleable__content pre {margin: 0.2em;color: black;border-radius: 0.25em;background-color: #f0f8ff;}#sk-container-id-4 input.sk-toggleable__control:checked~div.sk-toggleable__content {max-height: 200px;max-width: 100%;overflow: auto;}#sk-container-id-4 input.sk-toggleable__control:checked~label.sk-toggleable__label-arrow:before {content: \"▾\";}#sk-container-id-4 div.sk-estimator input.sk-toggleable__control:checked~label.sk-toggleable__label {background-color: #d4ebff;}#sk-container-id-4 div.sk-label input.sk-toggleable__control:checked~label.sk-toggleable__label {background-color: #d4ebff;}#sk-container-id-4 input.sk-hidden--visually {border: 0;clip: rect(1px 1px 1px 1px);clip: rect(1px, 1px, 1px, 1px);height: 1px;margin: -1px;overflow: hidden;padding: 0;position: absolute;width: 1px;}#sk-container-id-4 div.sk-estimator {font-family: monospace;background-color: #f0f8ff;border: 1px dotted black;border-radius: 0.25em;box-sizing: border-box;margin-bottom: 0.5em;}#sk-container-id-4 div.sk-estimator:hover {background-color: #d4ebff;}#sk-container-id-4 div.sk-parallel-item::after {content: \"\";width: 100%;border-bottom: 1px solid gray;flex-grow: 1;}#sk-container-id-4 div.sk-label:hover label.sk-toggleable__label {background-color: #d4ebff;}#sk-container-id-4 div.sk-serial::before {content: \"\";position: absolute;border-left: 1px solid gray;box-sizing: border-box;top: 0;bottom: 0;left: 50%;z-index: 0;}#sk-container-id-4 div.sk-serial {display: flex;flex-direction: column;align-items: center;background-color: white;padding-right: 0.2em;padding-left: 0.2em;position: relative;}#sk-container-id-4 div.sk-item {position: relative;z-index: 1;}#sk-container-id-4 div.sk-parallel {display: flex;align-items: stretch;justify-content: center;background-color: white;position: relative;}#sk-container-id-4 div.sk-item::before, #sk-container-id-4 div.sk-parallel-item::before {content: \"\";position: absolute;border-left: 1px solid gray;box-sizing: border-box;top: 0;bottom: 0;left: 50%;z-index: -1;}#sk-container-id-4 div.sk-parallel-item {display: flex;flex-direction: column;z-index: 1;position: relative;background-color: white;}#sk-container-id-4 div.sk-parallel-item:first-child::after {align-self: flex-end;width: 50%;}#sk-container-id-4 div.sk-parallel-item:last-child::after {align-self: flex-start;width: 50%;}#sk-container-id-4 div.sk-parallel-item:only-child::after {width: 0;}#sk-container-id-4 div.sk-dashed-wrapped {border: 1px dashed gray;margin: 0 0.4em 0.5em 0.4em;box-sizing: border-box;padding-bottom: 0.4em;background-color: white;}#sk-container-id-4 div.sk-label label {font-family: monospace;font-weight: bold;display: inline-block;line-height: 1.2em;}#sk-container-id-4 div.sk-label-container {text-align: center;}#sk-container-id-4 div.sk-container {/* jupyter's `normalize.less` sets `[hidden] { display: none; }` but bootstrap.min.css set `[hidden] { display: none !important; }` so we also need the `!important` here to be able to override the default hidden behavior on the sphinx rendered scikit-learn.org. See: https://github.com/scikit-learn/scikit-learn/issues/21755 */display: inline-block !important;position: relative;}#sk-container-id-4 div.sk-text-repr-fallback {display: none;}</style><div id=\"sk-container-id-4\" class=\"sk-top-container\"><div class=\"sk-text-repr-fallback\"><pre>BaggingClassifier(bootstrap_features=True, estimator=DecisionTreeClassifier(),\n                  max_features=0.5, max_samples=0.25, n_estimators=500,\n                  random_state=42)</pre><b>In a Jupyter environment, please rerun this cell to show the HTML representation or trust the notebook. <br />On GitHub, the HTML representation is unable to render, please try loading this page with nbviewer.org.</b></div><div class=\"sk-container\" hidden><div class=\"sk-item sk-dashed-wrapped\"><div class=\"sk-label-container\"><div class=\"sk-label sk-toggleable\"><input class=\"sk-toggleable__control sk-hidden--visually\" id=\"sk-estimator-id-10\" type=\"checkbox\" ><label for=\"sk-estimator-id-10\" class=\"sk-toggleable__label sk-toggleable__label-arrow\">BaggingClassifier</label><div class=\"sk-toggleable__content\"><pre>BaggingClassifier(bootstrap_features=True, estimator=DecisionTreeClassifier(),\n                  max_features=0.5, max_samples=0.25, n_estimators=500,\n                  random_state=42)</pre></div></div></div><div class=\"sk-parallel\"><div class=\"sk-parallel-item\"><div class=\"sk-item\"><div class=\"sk-label-container\"><div class=\"sk-label sk-toggleable\"><input class=\"sk-toggleable__control sk-hidden--visually\" id=\"sk-estimator-id-11\" type=\"checkbox\" ><label for=\"sk-estimator-id-11\" class=\"sk-toggleable__label sk-toggleable__label-arrow\">estimator: DecisionTreeClassifier</label><div class=\"sk-toggleable__content\"><pre>DecisionTreeClassifier()</pre></div></div></div><div class=\"sk-serial\"><div class=\"sk-item\"><div class=\"sk-estimator sk-toggleable\"><input class=\"sk-toggleable__control sk-hidden--visually\" id=\"sk-estimator-id-12\" type=\"checkbox\" ><label for=\"sk-estimator-id-12\" class=\"sk-toggleable__label sk-toggleable__label-arrow\">DecisionTreeClassifier</label><div class=\"sk-toggleable__content\"><pre>DecisionTreeClassifier()</pre></div></div></div></div></div></div></div></div></div></div>"
          },
          "metadata": {}
        }
      ],
      "execution_count": null
    },
    {
      "cell_type": "code",
      "source": [
        "y_pred = bag_columns_rows.predict(x_test)"
      ],
      "metadata": {
        "id": "2Uj74935uqbE",
        "trusted": true,
        "execution": {
          "iopub.status.busy": "2025-07-30T10:25:12.002182Z",
          "iopub.execute_input": "2025-07-30T10:25:12.002457Z",
          "iopub.status.idle": "2025-07-30T10:25:12.198355Z",
          "shell.execute_reply.started": "2025-07-30T10:25:12.002436Z",
          "shell.execute_reply": "2025-07-30T10:25:12.197405Z"
        }
      },
      "outputs": [],
      "execution_count": null
    },
    {
      "cell_type": "code",
      "source": [
        "print(\"Random Patches Classifier : \", accuracy_score(y_test, y_pred))"
      ],
      "metadata": {
        "colab": {
          "base_uri": "https://localhost:8080/"
        },
        "id": "IGTx9EE5vDwf",
        "outputId": "25547bbd-edd5-4e82-c4d6-bfe6269dd5a4",
        "trusted": true,
        "execution": {
          "iopub.status.busy": "2025-07-30T10:25:12.199315Z",
          "iopub.execute_input": "2025-07-30T10:25:12.199579Z",
          "iopub.status.idle": "2025-07-30T10:25:12.206214Z",
          "shell.execute_reply.started": "2025-07-30T10:25:12.199559Z",
          "shell.execute_reply": "2025-07-30T10:25:12.205295Z"
        }
      },
      "outputs": [
        {
          "name": "stdout",
          "text": "Random Patches Classifier :  0.8805\n",
          "output_type": "stream"
        }
      ],
      "execution_count": null
    },
    {
      "cell_type": "markdown",
      "source": [
        "OOB Score"
      ],
      "metadata": {
        "id": "QNvh8nO-vkLc"
      }
    },
    {
      "cell_type": "code",
      "source": [
        "bag_oob =BaggingClassifier(\n",
        "    estimator=DecisionTreeClassifier(),\n",
        "    n_estimators=500,\n",
        "    max_samples=0.25,\n",
        "    bootstrap=True,\n",
        "    oob_score=True,\n",
        "    random_state=42\n",
        ")"
      ],
      "metadata": {
        "id": "ywYNM0y_vKwL",
        "trusted": true,
        "execution": {
          "iopub.status.busy": "2025-07-30T10:25:12.207109Z",
          "iopub.execute_input": "2025-07-30T10:25:12.207552Z",
          "iopub.status.idle": "2025-07-30T10:25:12.224715Z",
          "shell.execute_reply.started": "2025-07-30T10:25:12.207523Z",
          "shell.execute_reply": "2025-07-30T10:25:12.223568Z"
        }
      },
      "outputs": [],
      "execution_count": null
    },
    {
      "cell_type": "code",
      "source": [
        "bag_oob.fit(x_train, y_train)"
      ],
      "metadata": {
        "colab": {
          "base_uri": "https://localhost:8080/",
          "height": 166
        },
        "id": "3TRdib6pvzhz",
        "outputId": "f716dabb-ac72-45ef-cc53-01e407a6f610",
        "trusted": true,
        "execution": {
          "iopub.status.busy": "2025-07-30T10:25:12.225815Z",
          "iopub.execute_input": "2025-07-30T10:25:12.22611Z",
          "iopub.status.idle": "2025-07-30T10:25:24.376316Z",
          "shell.execute_reply.started": "2025-07-30T10:25:12.226088Z",
          "shell.execute_reply": "2025-07-30T10:25:24.375528Z"
        }
      },
      "outputs": [
        {
          "execution_count": 26,
          "output_type": "execute_result",
          "data": {
            "text/plain": "BaggingClassifier(estimator=DecisionTreeClassifier(), max_samples=0.25,\n                  n_estimators=500, oob_score=True, random_state=42)",
            "text/html": "<style>#sk-container-id-5 {color: black;background-color: white;}#sk-container-id-5 pre{padding: 0;}#sk-container-id-5 div.sk-toggleable {background-color: white;}#sk-container-id-5 label.sk-toggleable__label {cursor: pointer;display: block;width: 100%;margin-bottom: 0;padding: 0.3em;box-sizing: border-box;text-align: center;}#sk-container-id-5 label.sk-toggleable__label-arrow:before {content: \"▸\";float: left;margin-right: 0.25em;color: #696969;}#sk-container-id-5 label.sk-toggleable__label-arrow:hover:before {color: black;}#sk-container-id-5 div.sk-estimator:hover label.sk-toggleable__label-arrow:before {color: black;}#sk-container-id-5 div.sk-toggleable__content {max-height: 0;max-width: 0;overflow: hidden;text-align: left;background-color: #f0f8ff;}#sk-container-id-5 div.sk-toggleable__content pre {margin: 0.2em;color: black;border-radius: 0.25em;background-color: #f0f8ff;}#sk-container-id-5 input.sk-toggleable__control:checked~div.sk-toggleable__content {max-height: 200px;max-width: 100%;overflow: auto;}#sk-container-id-5 input.sk-toggleable__control:checked~label.sk-toggleable__label-arrow:before {content: \"▾\";}#sk-container-id-5 div.sk-estimator input.sk-toggleable__control:checked~label.sk-toggleable__label {background-color: #d4ebff;}#sk-container-id-5 div.sk-label input.sk-toggleable__control:checked~label.sk-toggleable__label {background-color: #d4ebff;}#sk-container-id-5 input.sk-hidden--visually {border: 0;clip: rect(1px 1px 1px 1px);clip: rect(1px, 1px, 1px, 1px);height: 1px;margin: -1px;overflow: hidden;padding: 0;position: absolute;width: 1px;}#sk-container-id-5 div.sk-estimator {font-family: monospace;background-color: #f0f8ff;border: 1px dotted black;border-radius: 0.25em;box-sizing: border-box;margin-bottom: 0.5em;}#sk-container-id-5 div.sk-estimator:hover {background-color: #d4ebff;}#sk-container-id-5 div.sk-parallel-item::after {content: \"\";width: 100%;border-bottom: 1px solid gray;flex-grow: 1;}#sk-container-id-5 div.sk-label:hover label.sk-toggleable__label {background-color: #d4ebff;}#sk-container-id-5 div.sk-serial::before {content: \"\";position: absolute;border-left: 1px solid gray;box-sizing: border-box;top: 0;bottom: 0;left: 50%;z-index: 0;}#sk-container-id-5 div.sk-serial {display: flex;flex-direction: column;align-items: center;background-color: white;padding-right: 0.2em;padding-left: 0.2em;position: relative;}#sk-container-id-5 div.sk-item {position: relative;z-index: 1;}#sk-container-id-5 div.sk-parallel {display: flex;align-items: stretch;justify-content: center;background-color: white;position: relative;}#sk-container-id-5 div.sk-item::before, #sk-container-id-5 div.sk-parallel-item::before {content: \"\";position: absolute;border-left: 1px solid gray;box-sizing: border-box;top: 0;bottom: 0;left: 50%;z-index: -1;}#sk-container-id-5 div.sk-parallel-item {display: flex;flex-direction: column;z-index: 1;position: relative;background-color: white;}#sk-container-id-5 div.sk-parallel-item:first-child::after {align-self: flex-end;width: 50%;}#sk-container-id-5 div.sk-parallel-item:last-child::after {align-self: flex-start;width: 50%;}#sk-container-id-5 div.sk-parallel-item:only-child::after {width: 0;}#sk-container-id-5 div.sk-dashed-wrapped {border: 1px dashed gray;margin: 0 0.4em 0.5em 0.4em;box-sizing: border-box;padding-bottom: 0.4em;background-color: white;}#sk-container-id-5 div.sk-label label {font-family: monospace;font-weight: bold;display: inline-block;line-height: 1.2em;}#sk-container-id-5 div.sk-label-container {text-align: center;}#sk-container-id-5 div.sk-container {/* jupyter's `normalize.less` sets `[hidden] { display: none; }` but bootstrap.min.css set `[hidden] { display: none !important; }` so we also need the `!important` here to be able to override the default hidden behavior on the sphinx rendered scikit-learn.org. See: https://github.com/scikit-learn/scikit-learn/issues/21755 */display: inline-block !important;position: relative;}#sk-container-id-5 div.sk-text-repr-fallback {display: none;}</style><div id=\"sk-container-id-5\" class=\"sk-top-container\"><div class=\"sk-text-repr-fallback\"><pre>BaggingClassifier(estimator=DecisionTreeClassifier(), max_samples=0.25,\n                  n_estimators=500, oob_score=True, random_state=42)</pre><b>In a Jupyter environment, please rerun this cell to show the HTML representation or trust the notebook. <br />On GitHub, the HTML representation is unable to render, please try loading this page with nbviewer.org.</b></div><div class=\"sk-container\" hidden><div class=\"sk-item sk-dashed-wrapped\"><div class=\"sk-label-container\"><div class=\"sk-label sk-toggleable\"><input class=\"sk-toggleable__control sk-hidden--visually\" id=\"sk-estimator-id-13\" type=\"checkbox\" ><label for=\"sk-estimator-id-13\" class=\"sk-toggleable__label sk-toggleable__label-arrow\">BaggingClassifier</label><div class=\"sk-toggleable__content\"><pre>BaggingClassifier(estimator=DecisionTreeClassifier(), max_samples=0.25,\n                  n_estimators=500, oob_score=True, random_state=42)</pre></div></div></div><div class=\"sk-parallel\"><div class=\"sk-parallel-item\"><div class=\"sk-item\"><div class=\"sk-label-container\"><div class=\"sk-label sk-toggleable\"><input class=\"sk-toggleable__control sk-hidden--visually\" id=\"sk-estimator-id-14\" type=\"checkbox\" ><label for=\"sk-estimator-id-14\" class=\"sk-toggleable__label sk-toggleable__label-arrow\">estimator: DecisionTreeClassifier</label><div class=\"sk-toggleable__content\"><pre>DecisionTreeClassifier()</pre></div></div></div><div class=\"sk-serial\"><div class=\"sk-item\"><div class=\"sk-estimator sk-toggleable\"><input class=\"sk-toggleable__control sk-hidden--visually\" id=\"sk-estimator-id-15\" type=\"checkbox\" ><label for=\"sk-estimator-id-15\" class=\"sk-toggleable__label sk-toggleable__label-arrow\">DecisionTreeClassifier</label><div class=\"sk-toggleable__content\"><pre>DecisionTreeClassifier()</pre></div></div></div></div></div></div></div></div></div></div>"
          },
          "metadata": {}
        }
      ],
      "execution_count": null
    },
    {
      "cell_type": "code",
      "source": [
        "y_pred = bag_oob.predict(x_test)"
      ],
      "metadata": {
        "id": "oU6LH7UEv4KP",
        "trusted": true,
        "execution": {
          "iopub.status.busy": "2025-07-30T10:25:24.377114Z",
          "iopub.execute_input": "2025-07-30T10:25:24.377329Z",
          "iopub.status.idle": "2025-07-30T10:25:24.559912Z",
          "shell.execute_reply.started": "2025-07-30T10:25:24.377312Z",
          "shell.execute_reply": "2025-07-30T10:25:24.558855Z"
        }
      },
      "outputs": [],
      "execution_count": null
    },
    {
      "cell_type": "code",
      "source": [
        "bag_oob.oob_score_"
      ],
      "metadata": {
        "colab": {
          "base_uri": "https://localhost:8080/"
        },
        "id": "yQufIImtv99c",
        "outputId": "6d2be98b-13b3-4d6f-fd89-bf6cd7254f41",
        "trusted": true,
        "execution": {
          "iopub.status.busy": "2025-07-30T10:25:24.561047Z",
          "iopub.execute_input": "2025-07-30T10:25:24.561445Z",
          "iopub.status.idle": "2025-07-30T10:25:24.567241Z",
          "shell.execute_reply.started": "2025-07-30T10:25:24.561421Z",
          "shell.execute_reply": "2025-07-30T10:25:24.566316Z"
        }
      },
      "outputs": [
        {
          "execution_count": 28,
          "output_type": "execute_result",
          "data": {
            "text/plain": "0.907125"
          },
          "metadata": {}
        }
      ],
      "execution_count": null
    },
    {
      "cell_type": "code",
      "source": [
        "print(\"Accuracy Score : \", accuracy_score(y_test, y_pred))"
      ],
      "metadata": {
        "colab": {
          "base_uri": "https://localhost:8080/"
        },
        "id": "y1jSDtPtwQvq",
        "outputId": "4ad2305c-25ba-49fb-cbbb-e655b2327dc1",
        "trusted": true,
        "execution": {
          "iopub.status.busy": "2025-07-30T10:25:24.568206Z",
          "iopub.execute_input": "2025-07-30T10:25:24.56852Z",
          "iopub.status.idle": "2025-07-30T10:25:24.591454Z",
          "shell.execute_reply.started": "2025-07-30T10:25:24.568499Z",
          "shell.execute_reply": "2025-07-30T10:25:24.590514Z"
        }
      },
      "outputs": [
        {
          "name": "stdout",
          "text": "Accuracy Score :  0.9045\n",
          "output_type": "stream"
        }
      ],
      "execution_count": null
    },
    {
      "cell_type": "markdown",
      "source": [
        "Applying GridSearchCV"
      ],
      "metadata": {
        "id": "jqDF1XvEU7b_"
      }
    },
    {
      "cell_type": "code",
      "source": [
        "from sklearn.model_selection import GridSearchCV"
      ],
      "metadata": {
        "id": "nveFBYGpwZQq",
        "trusted": true,
        "execution": {
          "iopub.status.busy": "2025-07-30T10:25:24.592178Z",
          "iopub.execute_input": "2025-07-30T10:25:24.59243Z",
          "iopub.status.idle": "2025-07-30T10:25:24.611022Z",
          "shell.execute_reply.started": "2025-07-30T10:25:24.592412Z",
          "shell.execute_reply": "2025-07-30T10:25:24.610132Z"
        }
      },
      "outputs": [],
      "execution_count": null
    },
    {
      "cell_type": "code",
      "source": [
        "parameters = {\n",
        "    'n_estimators' : [50, 100, 500], #no. of base models\n",
        "    'max_samples' : [0.1, 0.4, 0.7, 1.0], #fraction of rows sampled per base estimator\n",
        "    'bootstrap' : [True, False], #whether sampling is with replacement\n",
        "    'max_features' : [0.1, 0.4, 0.7, 1.0] #fraction of features sampled per estimator\n",
        "}"
      ],
      "metadata": {
        "id": "9kKTjHDnVAyF",
        "trusted": true,
        "execution": {
          "iopub.status.busy": "2025-07-30T10:25:24.61214Z",
          "iopub.execute_input": "2025-07-30T10:25:24.612854Z",
          "iopub.status.idle": "2025-07-30T10:25:24.632253Z",
          "shell.execute_reply.started": "2025-07-30T10:25:24.612822Z",
          "shell.execute_reply": "2025-07-30T10:25:24.631225Z"
        }
      },
      "outputs": [],
      "execution_count": null
    },
    {
      "cell_type": "code",
      "source": [
        "search = GridSearchCV(BaggingClassifier(), param_grid=parameters, cv=5)"
      ],
      "metadata": {
        "id": "e3JaptLVVRMu",
        "trusted": true,
        "execution": {
          "iopub.status.busy": "2025-07-30T10:25:24.633238Z",
          "iopub.execute_input": "2025-07-30T10:25:24.633554Z",
          "iopub.status.idle": "2025-07-30T10:25:24.65683Z",
          "shell.execute_reply.started": "2025-07-30T10:25:24.633524Z",
          "shell.execute_reply": "2025-07-30T10:25:24.655847Z"
        }
      },
      "outputs": [],
      "execution_count": null
    },
    {
      "cell_type": "code",
      "source": [
        "search.fit(x_train, y_train)"
      ],
      "metadata": {
        "id": "wSPpoU_OVzfl",
        "trusted": true,
        "execution": {
          "iopub.status.busy": "2025-07-30T10:25:24.657748Z",
          "iopub.execute_input": "2025-07-30T10:25:24.658077Z",
          "iopub.status.idle": "2025-07-30T11:14:32.681035Z",
          "shell.execute_reply.started": "2025-07-30T10:25:24.658048Z",
          "shell.execute_reply": "2025-07-30T11:14:32.680163Z"
        },
        "outputId": "1ec10463-573c-420f-9296-0a72a277f14e"
      },
      "outputs": [
        {
          "execution_count": 33,
          "output_type": "execute_result",
          "data": {
            "text/plain": "GridSearchCV(cv=5, estimator=BaggingClassifier(),\n             param_grid={'bootstrap': [True, False],\n                         'max_features': [0.1, 0.4, 0.7, 1.0],\n                         'max_samples': [0.1, 0.4, 0.7, 1.0],\n                         'n_estimators': [50, 100, 500]})",
            "text/html": "<style>#sk-container-id-6 {color: black;background-color: white;}#sk-container-id-6 pre{padding: 0;}#sk-container-id-6 div.sk-toggleable {background-color: white;}#sk-container-id-6 label.sk-toggleable__label {cursor: pointer;display: block;width: 100%;margin-bottom: 0;padding: 0.3em;box-sizing: border-box;text-align: center;}#sk-container-id-6 label.sk-toggleable__label-arrow:before {content: \"▸\";float: left;margin-right: 0.25em;color: #696969;}#sk-container-id-6 label.sk-toggleable__label-arrow:hover:before {color: black;}#sk-container-id-6 div.sk-estimator:hover label.sk-toggleable__label-arrow:before {color: black;}#sk-container-id-6 div.sk-toggleable__content {max-height: 0;max-width: 0;overflow: hidden;text-align: left;background-color: #f0f8ff;}#sk-container-id-6 div.sk-toggleable__content pre {margin: 0.2em;color: black;border-radius: 0.25em;background-color: #f0f8ff;}#sk-container-id-6 input.sk-toggleable__control:checked~div.sk-toggleable__content {max-height: 200px;max-width: 100%;overflow: auto;}#sk-container-id-6 input.sk-toggleable__control:checked~label.sk-toggleable__label-arrow:before {content: \"▾\";}#sk-container-id-6 div.sk-estimator input.sk-toggleable__control:checked~label.sk-toggleable__label {background-color: #d4ebff;}#sk-container-id-6 div.sk-label input.sk-toggleable__control:checked~label.sk-toggleable__label {background-color: #d4ebff;}#sk-container-id-6 input.sk-hidden--visually {border: 0;clip: rect(1px 1px 1px 1px);clip: rect(1px, 1px, 1px, 1px);height: 1px;margin: -1px;overflow: hidden;padding: 0;position: absolute;width: 1px;}#sk-container-id-6 div.sk-estimator {font-family: monospace;background-color: #f0f8ff;border: 1px dotted black;border-radius: 0.25em;box-sizing: border-box;margin-bottom: 0.5em;}#sk-container-id-6 div.sk-estimator:hover {background-color: #d4ebff;}#sk-container-id-6 div.sk-parallel-item::after {content: \"\";width: 100%;border-bottom: 1px solid gray;flex-grow: 1;}#sk-container-id-6 div.sk-label:hover label.sk-toggleable__label {background-color: #d4ebff;}#sk-container-id-6 div.sk-serial::before {content: \"\";position: absolute;border-left: 1px solid gray;box-sizing: border-box;top: 0;bottom: 0;left: 50%;z-index: 0;}#sk-container-id-6 div.sk-serial {display: flex;flex-direction: column;align-items: center;background-color: white;padding-right: 0.2em;padding-left: 0.2em;position: relative;}#sk-container-id-6 div.sk-item {position: relative;z-index: 1;}#sk-container-id-6 div.sk-parallel {display: flex;align-items: stretch;justify-content: center;background-color: white;position: relative;}#sk-container-id-6 div.sk-item::before, #sk-container-id-6 div.sk-parallel-item::before {content: \"\";position: absolute;border-left: 1px solid gray;box-sizing: border-box;top: 0;bottom: 0;left: 50%;z-index: -1;}#sk-container-id-6 div.sk-parallel-item {display: flex;flex-direction: column;z-index: 1;position: relative;background-color: white;}#sk-container-id-6 div.sk-parallel-item:first-child::after {align-self: flex-end;width: 50%;}#sk-container-id-6 div.sk-parallel-item:last-child::after {align-self: flex-start;width: 50%;}#sk-container-id-6 div.sk-parallel-item:only-child::after {width: 0;}#sk-container-id-6 div.sk-dashed-wrapped {border: 1px dashed gray;margin: 0 0.4em 0.5em 0.4em;box-sizing: border-box;padding-bottom: 0.4em;background-color: white;}#sk-container-id-6 div.sk-label label {font-family: monospace;font-weight: bold;display: inline-block;line-height: 1.2em;}#sk-container-id-6 div.sk-label-container {text-align: center;}#sk-container-id-6 div.sk-container {/* jupyter's `normalize.less` sets `[hidden] { display: none; }` but bootstrap.min.css set `[hidden] { display: none !important; }` so we also need the `!important` here to be able to override the default hidden behavior on the sphinx rendered scikit-learn.org. See: https://github.com/scikit-learn/scikit-learn/issues/21755 */display: inline-block !important;position: relative;}#sk-container-id-6 div.sk-text-repr-fallback {display: none;}</style><div id=\"sk-container-id-6\" class=\"sk-top-container\"><div class=\"sk-text-repr-fallback\"><pre>GridSearchCV(cv=5, estimator=BaggingClassifier(),\n             param_grid={&#x27;bootstrap&#x27;: [True, False],\n                         &#x27;max_features&#x27;: [0.1, 0.4, 0.7, 1.0],\n                         &#x27;max_samples&#x27;: [0.1, 0.4, 0.7, 1.0],\n                         &#x27;n_estimators&#x27;: [50, 100, 500]})</pre><b>In a Jupyter environment, please rerun this cell to show the HTML representation or trust the notebook. <br />On GitHub, the HTML representation is unable to render, please try loading this page with nbviewer.org.</b></div><div class=\"sk-container\" hidden><div class=\"sk-item sk-dashed-wrapped\"><div class=\"sk-label-container\"><div class=\"sk-label sk-toggleable\"><input class=\"sk-toggleable__control sk-hidden--visually\" id=\"sk-estimator-id-16\" type=\"checkbox\" ><label for=\"sk-estimator-id-16\" class=\"sk-toggleable__label sk-toggleable__label-arrow\">GridSearchCV</label><div class=\"sk-toggleable__content\"><pre>GridSearchCV(cv=5, estimator=BaggingClassifier(),\n             param_grid={&#x27;bootstrap&#x27;: [True, False],\n                         &#x27;max_features&#x27;: [0.1, 0.4, 0.7, 1.0],\n                         &#x27;max_samples&#x27;: [0.1, 0.4, 0.7, 1.0],\n                         &#x27;n_estimators&#x27;: [50, 100, 500]})</pre></div></div></div><div class=\"sk-parallel\"><div class=\"sk-parallel-item\"><div class=\"sk-item\"><div class=\"sk-label-container\"><div class=\"sk-label sk-toggleable\"><input class=\"sk-toggleable__control sk-hidden--visually\" id=\"sk-estimator-id-17\" type=\"checkbox\" ><label for=\"sk-estimator-id-17\" class=\"sk-toggleable__label sk-toggleable__label-arrow\">estimator: BaggingClassifier</label><div class=\"sk-toggleable__content\"><pre>BaggingClassifier()</pre></div></div></div><div class=\"sk-serial\"><div class=\"sk-item\"><div class=\"sk-estimator sk-toggleable\"><input class=\"sk-toggleable__control sk-hidden--visually\" id=\"sk-estimator-id-18\" type=\"checkbox\" ><label for=\"sk-estimator-id-18\" class=\"sk-toggleable__label sk-toggleable__label-arrow\">BaggingClassifier</label><div class=\"sk-toggleable__content\"><pre>BaggingClassifier()</pre></div></div></div></div></div></div></div></div></div></div>"
          },
          "metadata": {}
        }
      ],
      "execution_count": null
    },
    {
      "cell_type": "code",
      "source": [
        "search"
      ],
      "metadata": {
        "id": "rqsDDNEcV-bt",
        "trusted": true
      },
      "outputs": [],
      "execution_count": null
    }
  ]
}