{
  "metadata": {
    "kernelspec": {
      "language": "python",
      "display_name": "Python 3",
      "name": "python3"
    },
    "language_info": {
      "name": "python",
      "version": "3.11.13",
      "mimetype": "text/x-python",
      "codemirror_mode": {
        "name": "ipython",
        "version": 3
      },
      "pygments_lexer": "ipython3",
      "nbconvert_exporter": "python",
      "file_extension": ".py"
    },
    "kaggle": {
      "accelerator": "none",
      "dataSources": [],
      "dockerImageVersionId": 31089,
      "isInternetEnabled": true,
      "language": "python",
      "sourceType": "notebook",
      "isGpuEnabled": false
    },
    "colab": {
      "name": "notebook0d068b740f",
      "provenance": [],
      "include_colab_link": true
    }
  },
  "nbformat_minor": 0,
  "nbformat": 4,
  "cells": [
    {
      "cell_type": "markdown",
      "metadata": {
        "id": "view-in-github",
        "colab_type": "text"
      },
      "source": [
        "<a href=\"https://colab.research.google.com/github/tarupathak30/machine_learning_algorithms/blob/main/Bagging/bagging_regressor.ipynb\" target=\"_parent\"><img src=\"https://colab.research.google.com/assets/colab-badge.svg\" alt=\"Open In Colab\"/></a>"
      ]
    },
    {
      "cell_type": "code",
      "source": [
        "# This Python 3 environment comes with many helpful analytics libraries installed\n",
        "# It is defined by the kaggle/python Docker image: https://github.com/kaggle/docker-python\n",
        "# For example, here's several helpful packages to load\n",
        "\n",
        "import numpy as np # linear algebra\n",
        "import pandas as pd # data processing, CSV file I/O (e.g. pd.read_csv)\n",
        "\n",
        "# Input data files are available in the read-only \"../input/\" directory\n",
        "# For example, running this (by clicking run or pressing Shift+Enter) will list all files under the input directory\n",
        "\n",
        "import os\n",
        "for dirname, _, filenames in os.walk('/kaggle/input'):\n",
        "    for filename in filenames:\n",
        "        print(os.path.join(dirname, filename))\n",
        "\n",
        "# You can write up to 20GB to the current directory (/kaggle/working/) that gets preserved as output when you create a version using \"Save & Run All\"\n",
        "# You can also write temporary files to /kaggle/temp/, but they won't be saved outside of the current session"
      ],
      "metadata": {
        "_uuid": "8f2839f25d086af736a60e9eeb907d3b93b6e0e5",
        "_cell_guid": "b1076dfc-b9ad-4769-8c92-a6c4dae69d19",
        "trusted": true,
        "execution": {
          "iopub.status.busy": "2025-07-30T09:44:35.991451Z",
          "iopub.execute_input": "2025-07-30T09:44:35.991967Z",
          "iopub.status.idle": "2025-07-30T09:44:37.685652Z",
          "shell.execute_reply.started": "2025-07-30T09:44:35.991853Z",
          "shell.execute_reply": "2025-07-30T09:44:37.684556Z"
        },
        "id": "Byw9Ntmh1_Ha"
      },
      "outputs": [],
      "execution_count": null
    },
    {
      "cell_type": "code",
      "source": [
        "from sklearn import datasets\n",
        "\n",
        "california_housing = datasets.fetch_california_housing()\n",
        "x_california_housing, y_california_housing = california_housing.data, california_housing.target\n",
        "print(\"Dataset Features Names \" + str(california_housing.feature_names))\n",
        "print(\"Dataset Features Size \" + str(california_housing.data.shape))\n",
        "print(\"Dataset Target Size \" + str(california_housing.target.shape))"
      ],
      "metadata": {
        "trusted": true,
        "execution": {
          "iopub.status.busy": "2025-07-30T09:44:45.339806Z",
          "iopub.execute_input": "2025-07-30T09:44:45.340076Z",
          "iopub.status.idle": "2025-07-30T09:44:46.428257Z",
          "shell.execute_reply.started": "2025-07-30T09:44:45.340055Z",
          "shell.execute_reply": "2025-07-30T09:44:46.427153Z"
        },
        "id": "CRGHqCUu1_Hc",
        "outputId": "df24573d-02b7-4f31-8ddc-af2576ddf78b"
      },
      "outputs": [
        {
          "name": "stdout",
          "text": "Dataset Features Names ['MedInc', 'HouseAge', 'AveRooms', 'AveBedrms', 'Population', 'AveOccup', 'Latitude', 'Longitude']\nDataset Features Size (20640, 8)\nDataset Target Size (20640,)\n",
          "output_type": "stream"
        }
      ],
      "execution_count": null
    },
    {
      "cell_type": "code",
      "source": [
        "from sklearn.linear_model import LinearRegression\n",
        "from sklearn.neighbors import KNeighborsRegressor\n",
        "from sklearn.model_selection import GridSearchCV\n",
        "from sklearn.tree import DecisionTreeRegressor\n",
        "from sklearn.metrics import r2_score\n",
        "import pandas as pd\n",
        "import numpy as np"
      ],
      "metadata": {
        "trusted": true,
        "execution": {
          "iopub.status.busy": "2025-07-30T09:44:51.71863Z",
          "iopub.execute_input": "2025-07-30T09:44:51.719095Z",
          "iopub.status.idle": "2025-07-30T09:44:52.15002Z",
          "shell.execute_reply.started": "2025-07-30T09:44:51.719073Z",
          "shell.execute_reply": "2025-07-30T09:44:52.149192Z"
        },
        "id": "uxh5uJPV1_Hd"
      },
      "outputs": [],
      "execution_count": null
    },
    {
      "cell_type": "code",
      "source": [
        "from sklearn.model_selection import train_test_split\n",
        "x_train, x_test, y_train, y_test = train_test_split(x_california_housing, y_california_housing, test_size=0.2, random_state=42)"
      ],
      "metadata": {
        "trusted": true,
        "execution": {
          "iopub.status.busy": "2025-07-30T09:44:58.841174Z",
          "iopub.execute_input": "2025-07-30T09:44:58.841431Z",
          "iopub.status.idle": "2025-07-30T09:44:58.849998Z",
          "shell.execute_reply.started": "2025-07-30T09:44:58.841412Z",
          "shell.execute_reply": "2025-07-30T09:44:58.849187Z"
        },
        "id": "au_8PSnJ1_Hd"
      },
      "outputs": [],
      "execution_count": null
    },
    {
      "cell_type": "code",
      "source": [
        "print('Train/Test Sets Sizes : ', x_train.shape, x_test.shape, y_train.shape, y_test.shape)"
      ],
      "metadata": {
        "trusted": true,
        "execution": {
          "iopub.status.busy": "2025-07-30T09:45:03.907607Z",
          "iopub.execute_input": "2025-07-30T09:45:03.907856Z",
          "iopub.status.idle": "2025-07-30T09:45:03.912668Z",
          "shell.execute_reply.started": "2025-07-30T09:45:03.907839Z",
          "shell.execute_reply": "2025-07-30T09:45:03.911729Z"
        },
        "id": "zaQEjsWn1_Hd",
        "outputId": "9a7aa035-4355-4170-d6b1-d52670dad6df"
      },
      "outputs": [
        {
          "name": "stdout",
          "text": "Train/Test Sets Sizes :  (16512, 8) (4128, 8) (16512,) (4128,)\n",
          "output_type": "stream"
        }
      ],
      "execution_count": null
    },
    {
      "cell_type": "code",
      "source": [
        "lr = LinearRegression()\n",
        "knn = KNeighborsRegressor()\n",
        "dtree = DecisionTreeRegressor()"
      ],
      "metadata": {
        "trusted": true,
        "execution": {
          "iopub.status.busy": "2025-07-30T09:45:10.545918Z",
          "iopub.execute_input": "2025-07-30T09:45:10.546488Z",
          "iopub.status.idle": "2025-07-30T09:45:10.551088Z",
          "shell.execute_reply.started": "2025-07-30T09:45:10.546454Z",
          "shell.execute_reply": "2025-07-30T09:45:10.550259Z"
        },
        "id": "E-u6hJCH1_He"
      },
      "outputs": [],
      "execution_count": null
    },
    {
      "cell_type": "code",
      "source": [
        "lr.fit(x_train, y_train)\n",
        "knn.fit(x_train, y_train)\n",
        "dtree.fit(x_train, y_train)"
      ],
      "metadata": {
        "trusted": true,
        "execution": {
          "iopub.status.busy": "2025-07-30T09:45:16.501555Z",
          "iopub.execute_input": "2025-07-30T09:45:16.50192Z",
          "iopub.status.idle": "2025-07-30T09:45:16.774986Z",
          "shell.execute_reply.started": "2025-07-30T09:45:16.501891Z",
          "shell.execute_reply": "2025-07-30T09:45:16.774063Z"
        },
        "id": "tBV88vye1_He",
        "outputId": "d4c79dd2-c64f-4b3a-b97e-fcc185d91ebd"
      },
      "outputs": [
        {
          "execution_count": 7,
          "output_type": "execute_result",
          "data": {
            "text/plain": "DecisionTreeRegressor()",
            "text/html": "<style>#sk-container-id-1 {color: black;background-color: white;}#sk-container-id-1 pre{padding: 0;}#sk-container-id-1 div.sk-toggleable {background-color: white;}#sk-container-id-1 label.sk-toggleable__label {cursor: pointer;display: block;width: 100%;margin-bottom: 0;padding: 0.3em;box-sizing: border-box;text-align: center;}#sk-container-id-1 label.sk-toggleable__label-arrow:before {content: \"▸\";float: left;margin-right: 0.25em;color: #696969;}#sk-container-id-1 label.sk-toggleable__label-arrow:hover:before {color: black;}#sk-container-id-1 div.sk-estimator:hover label.sk-toggleable__label-arrow:before {color: black;}#sk-container-id-1 div.sk-toggleable__content {max-height: 0;max-width: 0;overflow: hidden;text-align: left;background-color: #f0f8ff;}#sk-container-id-1 div.sk-toggleable__content pre {margin: 0.2em;color: black;border-radius: 0.25em;background-color: #f0f8ff;}#sk-container-id-1 input.sk-toggleable__control:checked~div.sk-toggleable__content {max-height: 200px;max-width: 100%;overflow: auto;}#sk-container-id-1 input.sk-toggleable__control:checked~label.sk-toggleable__label-arrow:before {content: \"▾\";}#sk-container-id-1 div.sk-estimator input.sk-toggleable__control:checked~label.sk-toggleable__label {background-color: #d4ebff;}#sk-container-id-1 div.sk-label input.sk-toggleable__control:checked~label.sk-toggleable__label {background-color: #d4ebff;}#sk-container-id-1 input.sk-hidden--visually {border: 0;clip: rect(1px 1px 1px 1px);clip: rect(1px, 1px, 1px, 1px);height: 1px;margin: -1px;overflow: hidden;padding: 0;position: absolute;width: 1px;}#sk-container-id-1 div.sk-estimator {font-family: monospace;background-color: #f0f8ff;border: 1px dotted black;border-radius: 0.25em;box-sizing: border-box;margin-bottom: 0.5em;}#sk-container-id-1 div.sk-estimator:hover {background-color: #d4ebff;}#sk-container-id-1 div.sk-parallel-item::after {content: \"\";width: 100%;border-bottom: 1px solid gray;flex-grow: 1;}#sk-container-id-1 div.sk-label:hover label.sk-toggleable__label {background-color: #d4ebff;}#sk-container-id-1 div.sk-serial::before {content: \"\";position: absolute;border-left: 1px solid gray;box-sizing: border-box;top: 0;bottom: 0;left: 50%;z-index: 0;}#sk-container-id-1 div.sk-serial {display: flex;flex-direction: column;align-items: center;background-color: white;padding-right: 0.2em;padding-left: 0.2em;position: relative;}#sk-container-id-1 div.sk-item {position: relative;z-index: 1;}#sk-container-id-1 div.sk-parallel {display: flex;align-items: stretch;justify-content: center;background-color: white;position: relative;}#sk-container-id-1 div.sk-item::before, #sk-container-id-1 div.sk-parallel-item::before {content: \"\";position: absolute;border-left: 1px solid gray;box-sizing: border-box;top: 0;bottom: 0;left: 50%;z-index: -1;}#sk-container-id-1 div.sk-parallel-item {display: flex;flex-direction: column;z-index: 1;position: relative;background-color: white;}#sk-container-id-1 div.sk-parallel-item:first-child::after {align-self: flex-end;width: 50%;}#sk-container-id-1 div.sk-parallel-item:last-child::after {align-self: flex-start;width: 50%;}#sk-container-id-1 div.sk-parallel-item:only-child::after {width: 0;}#sk-container-id-1 div.sk-dashed-wrapped {border: 1px dashed gray;margin: 0 0.4em 0.5em 0.4em;box-sizing: border-box;padding-bottom: 0.4em;background-color: white;}#sk-container-id-1 div.sk-label label {font-family: monospace;font-weight: bold;display: inline-block;line-height: 1.2em;}#sk-container-id-1 div.sk-label-container {text-align: center;}#sk-container-id-1 div.sk-container {/* jupyter's `normalize.less` sets `[hidden] { display: none; }` but bootstrap.min.css set `[hidden] { display: none !important; }` so we also need the `!important` here to be able to override the default hidden behavior on the sphinx rendered scikit-learn.org. See: https://github.com/scikit-learn/scikit-learn/issues/21755 */display: inline-block !important;position: relative;}#sk-container-id-1 div.sk-text-repr-fallback {display: none;}</style><div id=\"sk-container-id-1\" class=\"sk-top-container\"><div class=\"sk-text-repr-fallback\"><pre>DecisionTreeRegressor()</pre><b>In a Jupyter environment, please rerun this cell to show the HTML representation or trust the notebook. <br />On GitHub, the HTML representation is unable to render, please try loading this page with nbviewer.org.</b></div><div class=\"sk-container\" hidden><div class=\"sk-item\"><div class=\"sk-estimator sk-toggleable\"><input class=\"sk-toggleable__control sk-hidden--visually\" id=\"sk-estimator-id-1\" type=\"checkbox\" checked><label for=\"sk-estimator-id-1\" class=\"sk-toggleable__label sk-toggleable__label-arrow\">DecisionTreeRegressor</label><div class=\"sk-toggleable__content\"><pre>DecisionTreeRegressor()</pre></div></div></div></div></div>"
          },
          "metadata": {}
        }
      ],
      "execution_count": null
    },
    {
      "cell_type": "code",
      "source": [
        "y_pred_lr = lr.predict(x_test)\n",
        "y_pred_knn = knn.predict(x_test)\n",
        "y_pred_dtree = dtree.predict(x_test)"
      ],
      "metadata": {
        "trusted": true,
        "execution": {
          "iopub.status.busy": "2025-07-30T09:45:23.717757Z",
          "iopub.execute_input": "2025-07-30T09:45:23.71802Z",
          "iopub.status.idle": "2025-07-30T09:45:23.749797Z",
          "shell.execute_reply.started": "2025-07-30T09:45:23.718001Z",
          "shell.execute_reply": "2025-07-30T09:45:23.748967Z"
        },
        "id": "LK21OKHQ1_He"
      },
      "outputs": [],
      "execution_count": null
    },
    {
      "cell_type": "code",
      "source": [
        "print(\"R^2 Score for LR \", r2_score(y_test, y_pred_lr))\n",
        "print(\"R^2 Score for DT \", r2_score(y_test, y_pred_dtree))\n",
        "print(\"R^2 Score for KNN\", r2_score(y_test, y_pred_knn))"
      ],
      "metadata": {
        "trusted": true,
        "execution": {
          "iopub.status.busy": "2025-07-30T09:45:34.438058Z",
          "iopub.execute_input": "2025-07-30T09:45:34.438362Z",
          "iopub.status.idle": "2025-07-30T09:45:34.448426Z",
          "shell.execute_reply.started": "2025-07-30T09:45:34.438342Z",
          "shell.execute_reply": "2025-07-30T09:45:34.447173Z"
        },
        "id": "bU4qS2z01_He",
        "outputId": "55f79354-10b7-4462-e389-b12acdc05e4c"
      },
      "outputs": [
        {
          "name": "stdout",
          "text": "R^2 Score for LR  0.5757877060324524\nR^2 Score for DT  0.6197077751574898\nR^2 Score for KNN 0.14631049965900345\n",
          "output_type": "stream"
        }
      ],
      "execution_count": null
    },
    {
      "cell_type": "code",
      "source": [
        "from sklearn.ensemble import BaggingRegressor"
      ],
      "metadata": {
        "trusted": true,
        "execution": {
          "iopub.status.busy": "2025-07-30T09:45:42.979811Z",
          "iopub.execute_input": "2025-07-30T09:45:42.980071Z",
          "iopub.status.idle": "2025-07-30T09:45:43.113345Z",
          "shell.execute_reply.started": "2025-07-30T09:45:42.980054Z",
          "shell.execute_reply": "2025-07-30T09:45:43.112538Z"
        },
        "id": "GP9tUvKe1_Hf"
      },
      "outputs": [],
      "execution_count": null
    },
    {
      "cell_type": "code",
      "source": [
        "bag_regressor = BaggingRegressor(random_state=1)"
      ],
      "metadata": {
        "trusted": true,
        "execution": {
          "iopub.status.busy": "2025-07-30T09:45:47.934535Z",
          "iopub.execute_input": "2025-07-30T09:45:47.935405Z",
          "iopub.status.idle": "2025-07-30T09:45:47.939551Z",
          "shell.execute_reply.started": "2025-07-30T09:45:47.93537Z",
          "shell.execute_reply": "2025-07-30T09:45:47.938488Z"
        },
        "id": "jvl2q7T91_Hf"
      },
      "outputs": [],
      "execution_count": null
    },
    {
      "cell_type": "code",
      "source": [
        "bag_regressor.fit(x_train, y_train)"
      ],
      "metadata": {
        "trusted": true,
        "execution": {
          "iopub.status.busy": "2025-07-30T09:46:01.701759Z",
          "iopub.execute_input": "2025-07-30T09:46:01.702061Z",
          "iopub.status.idle": "2025-07-30T09:46:02.953965Z",
          "shell.execute_reply.started": "2025-07-30T09:46:01.702028Z",
          "shell.execute_reply": "2025-07-30T09:46:02.953041Z"
        },
        "id": "QPwcpLkD1_Hf",
        "outputId": "aaa08468-7c7d-47b3-e3c5-47842f3094fe"
      },
      "outputs": [
        {
          "execution_count": 12,
          "output_type": "execute_result",
          "data": {
            "text/plain": "BaggingRegressor(random_state=1)",
            "text/html": "<style>#sk-container-id-2 {color: black;background-color: white;}#sk-container-id-2 pre{padding: 0;}#sk-container-id-2 div.sk-toggleable {background-color: white;}#sk-container-id-2 label.sk-toggleable__label {cursor: pointer;display: block;width: 100%;margin-bottom: 0;padding: 0.3em;box-sizing: border-box;text-align: center;}#sk-container-id-2 label.sk-toggleable__label-arrow:before {content: \"▸\";float: left;margin-right: 0.25em;color: #696969;}#sk-container-id-2 label.sk-toggleable__label-arrow:hover:before {color: black;}#sk-container-id-2 div.sk-estimator:hover label.sk-toggleable__label-arrow:before {color: black;}#sk-container-id-2 div.sk-toggleable__content {max-height: 0;max-width: 0;overflow: hidden;text-align: left;background-color: #f0f8ff;}#sk-container-id-2 div.sk-toggleable__content pre {margin: 0.2em;color: black;border-radius: 0.25em;background-color: #f0f8ff;}#sk-container-id-2 input.sk-toggleable__control:checked~div.sk-toggleable__content {max-height: 200px;max-width: 100%;overflow: auto;}#sk-container-id-2 input.sk-toggleable__control:checked~label.sk-toggleable__label-arrow:before {content: \"▾\";}#sk-container-id-2 div.sk-estimator input.sk-toggleable__control:checked~label.sk-toggleable__label {background-color: #d4ebff;}#sk-container-id-2 div.sk-label input.sk-toggleable__control:checked~label.sk-toggleable__label {background-color: #d4ebff;}#sk-container-id-2 input.sk-hidden--visually {border: 0;clip: rect(1px 1px 1px 1px);clip: rect(1px, 1px, 1px, 1px);height: 1px;margin: -1px;overflow: hidden;padding: 0;position: absolute;width: 1px;}#sk-container-id-2 div.sk-estimator {font-family: monospace;background-color: #f0f8ff;border: 1px dotted black;border-radius: 0.25em;box-sizing: border-box;margin-bottom: 0.5em;}#sk-container-id-2 div.sk-estimator:hover {background-color: #d4ebff;}#sk-container-id-2 div.sk-parallel-item::after {content: \"\";width: 100%;border-bottom: 1px solid gray;flex-grow: 1;}#sk-container-id-2 div.sk-label:hover label.sk-toggleable__label {background-color: #d4ebff;}#sk-container-id-2 div.sk-serial::before {content: \"\";position: absolute;border-left: 1px solid gray;box-sizing: border-box;top: 0;bottom: 0;left: 50%;z-index: 0;}#sk-container-id-2 div.sk-serial {display: flex;flex-direction: column;align-items: center;background-color: white;padding-right: 0.2em;padding-left: 0.2em;position: relative;}#sk-container-id-2 div.sk-item {position: relative;z-index: 1;}#sk-container-id-2 div.sk-parallel {display: flex;align-items: stretch;justify-content: center;background-color: white;position: relative;}#sk-container-id-2 div.sk-item::before, #sk-container-id-2 div.sk-parallel-item::before {content: \"\";position: absolute;border-left: 1px solid gray;box-sizing: border-box;top: 0;bottom: 0;left: 50%;z-index: -1;}#sk-container-id-2 div.sk-parallel-item {display: flex;flex-direction: column;z-index: 1;position: relative;background-color: white;}#sk-container-id-2 div.sk-parallel-item:first-child::after {align-self: flex-end;width: 50%;}#sk-container-id-2 div.sk-parallel-item:last-child::after {align-self: flex-start;width: 50%;}#sk-container-id-2 div.sk-parallel-item:only-child::after {width: 0;}#sk-container-id-2 div.sk-dashed-wrapped {border: 1px dashed gray;margin: 0 0.4em 0.5em 0.4em;box-sizing: border-box;padding-bottom: 0.4em;background-color: white;}#sk-container-id-2 div.sk-label label {font-family: monospace;font-weight: bold;display: inline-block;line-height: 1.2em;}#sk-container-id-2 div.sk-label-container {text-align: center;}#sk-container-id-2 div.sk-container {/* jupyter's `normalize.less` sets `[hidden] { display: none; }` but bootstrap.min.css set `[hidden] { display: none !important; }` so we also need the `!important` here to be able to override the default hidden behavior on the sphinx rendered scikit-learn.org. See: https://github.com/scikit-learn/scikit-learn/issues/21755 */display: inline-block !important;position: relative;}#sk-container-id-2 div.sk-text-repr-fallback {display: none;}</style><div id=\"sk-container-id-2\" class=\"sk-top-container\"><div class=\"sk-text-repr-fallback\"><pre>BaggingRegressor(random_state=1)</pre><b>In a Jupyter environment, please rerun this cell to show the HTML representation or trust the notebook. <br />On GitHub, the HTML representation is unable to render, please try loading this page with nbviewer.org.</b></div><div class=\"sk-container\" hidden><div class=\"sk-item\"><div class=\"sk-estimator sk-toggleable\"><input class=\"sk-toggleable__control sk-hidden--visually\" id=\"sk-estimator-id-2\" type=\"checkbox\" checked><label for=\"sk-estimator-id-2\" class=\"sk-toggleable__label sk-toggleable__label-arrow\">BaggingRegressor</label><div class=\"sk-toggleable__content\"><pre>BaggingRegressor(random_state=1)</pre></div></div></div></div></div>"
          },
          "metadata": {}
        }
      ],
      "execution_count": null
    },
    {
      "cell_type": "code",
      "source": [
        "y_pred_bagging_regressor = bag_regressor.predict(x_test)"
      ],
      "metadata": {
        "trusted": true,
        "execution": {
          "iopub.status.busy": "2025-07-30T09:46:07.406188Z",
          "iopub.execute_input": "2025-07-30T09:46:07.407134Z",
          "iopub.status.idle": "2025-07-30T09:46:07.427573Z",
          "shell.execute_reply.started": "2025-07-30T09:46:07.407077Z",
          "shell.execute_reply": "2025-07-30T09:46:07.426624Z"
        },
        "id": "Mb4A4c1B1_Hf"
      },
      "outputs": [],
      "execution_count": null
    },
    {
      "cell_type": "code",
      "source": [
        "r2_train = bag_regressor.score(x_train, y_train)\n",
        "r2_test = bag_regressor.score(x_test, y_test)\n",
        "print(f\"Training Coefficient of R^2 :  {r2_train:.3f}\")\n",
        "print(f\"Test Coefficient of R^2 : {r2_test:.3f}\")"
      ],
      "metadata": {
        "trusted": true,
        "execution": {
          "iopub.status.busy": "2025-07-30T09:46:12.539723Z",
          "iopub.execute_input": "2025-07-30T09:46:12.540207Z",
          "iopub.status.idle": "2025-07-30T09:46:12.629457Z",
          "shell.execute_reply.started": "2025-07-30T09:46:12.540181Z",
          "shell.execute_reply": "2025-07-30T09:46:12.628527Z"
        },
        "id": "QY2CrzJn1_Hg",
        "outputId": "474adddd-e67e-4da7-c0ad-ddc607790294"
      },
      "outputs": [
        {
          "name": "stdout",
          "text": "Training Coefficient of R^2 :  0.962\nTest Coefficient of R^2 : 0.795\n",
          "output_type": "stream"
        }
      ],
      "execution_count": null
    },
    {
      "cell_type": "code",
      "source": [
        "n_samples = california_housing.data.shape[0]\n",
        "n_features = california_housing.data.shape[1]"
      ],
      "metadata": {
        "trusted": true,
        "execution": {
          "iopub.status.busy": "2025-07-30T09:46:18.864768Z",
          "iopub.execute_input": "2025-07-30T09:46:18.865063Z",
          "iopub.status.idle": "2025-07-30T09:46:18.869869Z",
          "shell.execute_reply.started": "2025-07-30T09:46:18.865043Z",
          "shell.execute_reply": "2025-07-30T09:46:18.868945Z"
        },
        "id": "S3oTKa9I1_Hg"
      },
      "outputs": [],
      "execution_count": null
    },
    {
      "cell_type": "code",
      "source": [
        "params = {\n",
        "    'estimator' : [None, LinearRegression(), KNeighborsRegressor()],\n",
        "    'n_estimators' : [20, 50, 100],\n",
        "    'max_samples' : [0.5, 1.0],\n",
        "    'max_features' : [0.5, 1.0],\n",
        "    'bootstrap' : [True, False],\n",
        "    'bootstrap_features' : [True, False]\n",
        "}"
      ],
      "metadata": {
        "trusted": true,
        "execution": {
          "iopub.status.busy": "2025-07-30T09:46:24.716039Z",
          "iopub.execute_input": "2025-07-30T09:46:24.716333Z",
          "iopub.status.idle": "2025-07-30T09:46:24.721784Z",
          "shell.execute_reply.started": "2025-07-30T09:46:24.716316Z",
          "shell.execute_reply": "2025-07-30T09:46:24.720508Z"
        },
        "id": "BaDbUWB_1_Hg"
      },
      "outputs": [],
      "execution_count": null
    },
    {
      "cell_type": "code",
      "source": [
        "bagging_regressor_grid = GridSearchCV(BaggingRegressor(random_state=1), param_grid=params, cv=5)"
      ],
      "metadata": {
        "trusted": true,
        "execution": {
          "iopub.status.busy": "2025-07-30T09:46:32.084262Z",
          "iopub.execute_input": "2025-07-30T09:46:32.084548Z",
          "iopub.status.idle": "2025-07-30T09:46:32.089531Z",
          "shell.execute_reply.started": "2025-07-30T09:46:32.084529Z",
          "shell.execute_reply": "2025-07-30T09:46:32.088394Z"
        },
        "id": "GtnAqKEK1_Hg"
      },
      "outputs": [],
      "execution_count": null
    },
    {
      "cell_type": "code",
      "source": [
        "bagging_regressor_grid.fit(x_train, y_train)"
      ],
      "metadata": {
        "trusted": true,
        "execution": {
          "iopub.status.busy": "2025-07-30T09:46:49.333337Z",
          "iopub.execute_input": "2025-07-30T09:46:49.333582Z",
          "iopub.status.idle": "2025-07-30T10:11:15.306038Z",
          "shell.execute_reply.started": "2025-07-30T09:46:49.333565Z",
          "shell.execute_reply": "2025-07-30T10:11:15.305201Z"
        },
        "id": "papl2KYx1_Hh",
        "outputId": "94f8fbdc-3ce8-4f3a-e4f4-c420d9387168"
      },
      "outputs": [
        {
          "execution_count": 18,
          "output_type": "execute_result",
          "data": {
            "text/plain": "GridSearchCV(cv=5, estimator=BaggingRegressor(random_state=1),\n             param_grid={'bootstrap': [True, False],\n                         'bootstrap_features': [True, False],\n                         'estimator': [None, LinearRegression(),\n                                       KNeighborsRegressor()],\n                         'max_features': [0.5, 1.0], 'max_samples': [0.5, 1.0],\n                         'n_estimators': [20, 50, 100]})",
            "text/html": "<style>#sk-container-id-3 {color: black;background-color: white;}#sk-container-id-3 pre{padding: 0;}#sk-container-id-3 div.sk-toggleable {background-color: white;}#sk-container-id-3 label.sk-toggleable__label {cursor: pointer;display: block;width: 100%;margin-bottom: 0;padding: 0.3em;box-sizing: border-box;text-align: center;}#sk-container-id-3 label.sk-toggleable__label-arrow:before {content: \"▸\";float: left;margin-right: 0.25em;color: #696969;}#sk-container-id-3 label.sk-toggleable__label-arrow:hover:before {color: black;}#sk-container-id-3 div.sk-estimator:hover label.sk-toggleable__label-arrow:before {color: black;}#sk-container-id-3 div.sk-toggleable__content {max-height: 0;max-width: 0;overflow: hidden;text-align: left;background-color: #f0f8ff;}#sk-container-id-3 div.sk-toggleable__content pre {margin: 0.2em;color: black;border-radius: 0.25em;background-color: #f0f8ff;}#sk-container-id-3 input.sk-toggleable__control:checked~div.sk-toggleable__content {max-height: 200px;max-width: 100%;overflow: auto;}#sk-container-id-3 input.sk-toggleable__control:checked~label.sk-toggleable__label-arrow:before {content: \"▾\";}#sk-container-id-3 div.sk-estimator input.sk-toggleable__control:checked~label.sk-toggleable__label {background-color: #d4ebff;}#sk-container-id-3 div.sk-label input.sk-toggleable__control:checked~label.sk-toggleable__label {background-color: #d4ebff;}#sk-container-id-3 input.sk-hidden--visually {border: 0;clip: rect(1px 1px 1px 1px);clip: rect(1px, 1px, 1px, 1px);height: 1px;margin: -1px;overflow: hidden;padding: 0;position: absolute;width: 1px;}#sk-container-id-3 div.sk-estimator {font-family: monospace;background-color: #f0f8ff;border: 1px dotted black;border-radius: 0.25em;box-sizing: border-box;margin-bottom: 0.5em;}#sk-container-id-3 div.sk-estimator:hover {background-color: #d4ebff;}#sk-container-id-3 div.sk-parallel-item::after {content: \"\";width: 100%;border-bottom: 1px solid gray;flex-grow: 1;}#sk-container-id-3 div.sk-label:hover label.sk-toggleable__label {background-color: #d4ebff;}#sk-container-id-3 div.sk-serial::before {content: \"\";position: absolute;border-left: 1px solid gray;box-sizing: border-box;top: 0;bottom: 0;left: 50%;z-index: 0;}#sk-container-id-3 div.sk-serial {display: flex;flex-direction: column;align-items: center;background-color: white;padding-right: 0.2em;padding-left: 0.2em;position: relative;}#sk-container-id-3 div.sk-item {position: relative;z-index: 1;}#sk-container-id-3 div.sk-parallel {display: flex;align-items: stretch;justify-content: center;background-color: white;position: relative;}#sk-container-id-3 div.sk-item::before, #sk-container-id-3 div.sk-parallel-item::before {content: \"\";position: absolute;border-left: 1px solid gray;box-sizing: border-box;top: 0;bottom: 0;left: 50%;z-index: -1;}#sk-container-id-3 div.sk-parallel-item {display: flex;flex-direction: column;z-index: 1;position: relative;background-color: white;}#sk-container-id-3 div.sk-parallel-item:first-child::after {align-self: flex-end;width: 50%;}#sk-container-id-3 div.sk-parallel-item:last-child::after {align-self: flex-start;width: 50%;}#sk-container-id-3 div.sk-parallel-item:only-child::after {width: 0;}#sk-container-id-3 div.sk-dashed-wrapped {border: 1px dashed gray;margin: 0 0.4em 0.5em 0.4em;box-sizing: border-box;padding-bottom: 0.4em;background-color: white;}#sk-container-id-3 div.sk-label label {font-family: monospace;font-weight: bold;display: inline-block;line-height: 1.2em;}#sk-container-id-3 div.sk-label-container {text-align: center;}#sk-container-id-3 div.sk-container {/* jupyter's `normalize.less` sets `[hidden] { display: none; }` but bootstrap.min.css set `[hidden] { display: none !important; }` so we also need the `!important` here to be able to override the default hidden behavior on the sphinx rendered scikit-learn.org. See: https://github.com/scikit-learn/scikit-learn/issues/21755 */display: inline-block !important;position: relative;}#sk-container-id-3 div.sk-text-repr-fallback {display: none;}</style><div id=\"sk-container-id-3\" class=\"sk-top-container\"><div class=\"sk-text-repr-fallback\"><pre>GridSearchCV(cv=5, estimator=BaggingRegressor(random_state=1),\n             param_grid={&#x27;bootstrap&#x27;: [True, False],\n                         &#x27;bootstrap_features&#x27;: [True, False],\n                         &#x27;estimator&#x27;: [None, LinearRegression(),\n                                       KNeighborsRegressor()],\n                         &#x27;max_features&#x27;: [0.5, 1.0], &#x27;max_samples&#x27;: [0.5, 1.0],\n                         &#x27;n_estimators&#x27;: [20, 50, 100]})</pre><b>In a Jupyter environment, please rerun this cell to show the HTML representation or trust the notebook. <br />On GitHub, the HTML representation is unable to render, please try loading this page with nbviewer.org.</b></div><div class=\"sk-container\" hidden><div class=\"sk-item sk-dashed-wrapped\"><div class=\"sk-label-container\"><div class=\"sk-label sk-toggleable\"><input class=\"sk-toggleable__control sk-hidden--visually\" id=\"sk-estimator-id-3\" type=\"checkbox\" ><label for=\"sk-estimator-id-3\" class=\"sk-toggleable__label sk-toggleable__label-arrow\">GridSearchCV</label><div class=\"sk-toggleable__content\"><pre>GridSearchCV(cv=5, estimator=BaggingRegressor(random_state=1),\n             param_grid={&#x27;bootstrap&#x27;: [True, False],\n                         &#x27;bootstrap_features&#x27;: [True, False],\n                         &#x27;estimator&#x27;: [None, LinearRegression(),\n                                       KNeighborsRegressor()],\n                         &#x27;max_features&#x27;: [0.5, 1.0], &#x27;max_samples&#x27;: [0.5, 1.0],\n                         &#x27;n_estimators&#x27;: [20, 50, 100]})</pre></div></div></div><div class=\"sk-parallel\"><div class=\"sk-parallel-item\"><div class=\"sk-item\"><div class=\"sk-label-container\"><div class=\"sk-label sk-toggleable\"><input class=\"sk-toggleable__control sk-hidden--visually\" id=\"sk-estimator-id-4\" type=\"checkbox\" ><label for=\"sk-estimator-id-4\" class=\"sk-toggleable__label sk-toggleable__label-arrow\">estimator: BaggingRegressor</label><div class=\"sk-toggleable__content\"><pre>BaggingRegressor(random_state=1)</pre></div></div></div><div class=\"sk-serial\"><div class=\"sk-item\"><div class=\"sk-estimator sk-toggleable\"><input class=\"sk-toggleable__control sk-hidden--visually\" id=\"sk-estimator-id-5\" type=\"checkbox\" ><label for=\"sk-estimator-id-5\" class=\"sk-toggleable__label sk-toggleable__label-arrow\">BaggingRegressor</label><div class=\"sk-toggleable__content\"><pre>BaggingRegressor(random_state=1)</pre></div></div></div></div></div></div></div></div></div></div>"
          },
          "metadata": {}
        }
      ],
      "execution_count": null
    },
    {
      "cell_type": "code",
      "source": [
        "bagging_regressor_grid.best_params_"
      ],
      "metadata": {
        "trusted": true,
        "execution": {
          "iopub.status.busy": "2025-07-30T10:17:00.381869Z",
          "iopub.execute_input": "2025-07-30T10:17:00.382166Z",
          "iopub.status.idle": "2025-07-30T10:17:00.389146Z",
          "shell.execute_reply.started": "2025-07-30T10:17:00.382145Z",
          "shell.execute_reply": "2025-07-30T10:17:00.388181Z"
        },
        "id": "RCGumCCL1_Hj",
        "outputId": "03cc12a8-1a6b-4f95-f054-53d0e19c32ba"
      },
      "outputs": [
        {
          "execution_count": 19,
          "output_type": "execute_result",
          "data": {
            "text/plain": "{'bootstrap': False,\n 'bootstrap_features': True,\n 'estimator': None,\n 'max_features': 1.0,\n 'max_samples': 1.0,\n 'n_estimators': 100}"
          },
          "metadata": {}
        }
      ],
      "execution_count": null
    },
    {
      "cell_type": "code",
      "source": [],
      "metadata": {
        "trusted": true,
        "id": "naTtQsKR1_Hj"
      },
      "outputs": [],
      "execution_count": null
    }
  ]
}