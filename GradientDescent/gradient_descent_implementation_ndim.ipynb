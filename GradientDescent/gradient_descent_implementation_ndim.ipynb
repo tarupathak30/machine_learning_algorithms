{
  "nbformat": 4,
  "nbformat_minor": 0,
  "metadata": {
    "colab": {
      "provenance": [],
      "authorship_tag": "ABX9TyNDSi4EYijEpZ9Wbn1T+HFy",
      "include_colab_link": true
    },
    "kernelspec": {
      "name": "python3",
      "display_name": "Python 3"
    },
    "language_info": {
      "name": "python"
    }
  },
  "cells": [
    {
      "cell_type": "markdown",
      "metadata": {
        "id": "view-in-github",
        "colab_type": "text"
      },
      "source": [
        "<a href=\"https://colab.research.google.com/github/tarupathak30/machine_learning_algorithms/blob/main/GradientDescent/gradient_descent_implementation_ndim.ipynb\" target=\"_parent\"><img src=\"https://colab.research.google.com/assets/colab-badge.svg\" alt=\"Open In Colab\"/></a>"
      ]
    },
    {
      "cell_type": "code",
      "execution_count": null,
      "metadata": {
        "id": "D7Iw32AQiuc_"
      },
      "outputs": [],
      "source": [
        "from sklearn.datasets import load_diabetes\n",
        "\n",
        "import numpy as np\n",
        "from sklearn.linear_model import LinearRegression\n",
        "from sklearn.metrics import r2_score\n",
        "from sklearn.model_selection import train_test_split"
      ]
    },
    {
      "cell_type": "code",
      "source": [
        "X, y = load_diabetes(return_X_y=True)"
      ],
      "metadata": {
        "id": "WB9S6J44jj5l"
      },
      "execution_count": null,
      "outputs": []
    },
    {
      "cell_type": "code",
      "source": [
        "print(X.shape)\n",
        "print(y.shape)"
      ],
      "metadata": {
        "colab": {
          "base_uri": "https://localhost:8080/"
        },
        "id": "Tji-DdFQk8gX",
        "outputId": "66a14f28-b4a4-400a-f892-0c5d4cc72a3a"
      },
      "execution_count": null,
      "outputs": [
        {
          "output_type": "stream",
          "name": "stdout",
          "text": [
            "(442, 10)\n",
            "(442,)\n"
          ]
        }
      ]
    },
    {
      "cell_type": "code",
      "source": [
        "x_train, x_test, y_train, y_test = train_test_split(X, y, test_size=0.2, random_state=42)"
      ],
      "metadata": {
        "id": "W0_HFmFFlA6s"
      },
      "execution_count": null,
      "outputs": []
    },
    {
      "cell_type": "code",
      "source": [
        "reg = LinearRegression()\n",
        "reg.fit(x_train, y_train)\n",
        "print(x_train.shape)"
      ],
      "metadata": {
        "colab": {
          "base_uri": "https://localhost:8080/"
        },
        "id": "4puACuIxlLKt",
        "outputId": "2e4e2797-ce7e-4eda-f4ac-2eb06065fc69"
      },
      "execution_count": null,
      "outputs": [
        {
          "output_type": "stream",
          "name": "stdout",
          "text": [
            "(353, 10)\n"
          ]
        }
      ]
    },
    {
      "cell_type": "code",
      "source": [
        "print(reg.coef_)\n",
        "print(\"--------\")\n",
        "print(reg.intercept_)"
      ],
      "metadata": {
        "colab": {
          "base_uri": "https://localhost:8080/"
        },
        "id": "wzSIgA8XlQDM",
        "outputId": "b6a5172e-351d-472c-eba3-a029855ead6f"
      },
      "execution_count": null,
      "outputs": [
        {
          "output_type": "stream",
          "name": "stdout",
          "text": [
            "[  37.90402135 -241.96436231  542.42875852  347.70384391 -931.48884588\n",
            "  518.06227698  163.41998299  275.31790158  736.1988589    48.67065743]\n",
            "--------\n",
            "151.34560453985995\n"
          ]
        }
      ]
    },
    {
      "cell_type": "code",
      "source": [
        "y_pred = reg.predict(x_test)\n",
        "r2_score(y_test, y_pred)"
      ],
      "metadata": {
        "colab": {
          "base_uri": "https://localhost:8080/"
        },
        "id": "ii-wgvIxlU3A",
        "outputId": "d4cc5f28-5d23-41d2-c9cf-1e81766ce4ff"
      },
      "execution_count": null,
      "outputs": [
        {
          "output_type": "execute_result",
          "data": {
            "text/plain": [
              "0.4526027629719195"
            ]
          },
          "metadata": {},
          "execution_count": 11
        }
      ]
    },
    {
      "cell_type": "code",
      "source": [
        "class GDRegressor:\n",
        "    def __init__(self, learning_rate=0.01, epochs=100):\n",
        "      self.coef_ = None\n",
        "      self.intercept_ = None\n",
        "      self.lr = learning_rate\n",
        "      self.epochs = epochs\n",
        "\n",
        "    def fit(self, x_train, y_train):\n",
        "      # initialise your coefs\n",
        "      self.intercept_ = 0\n",
        "      self.coef_ = np.ones(x_train.shape[1]) #(353, 10)\n",
        "      print(self.intercept_, self.coef_)\n",
        "\n",
        "      for i in range(self.epochs):\n",
        "        # update all the coef and the intercept\n",
        "        y_hat = self.intercept_ + np.dot(x_train, self.coef_)\n",
        "        intercept_derivative = -2 * np.mean(y_train - y_hat)\n",
        "        self.intercept_ = self.intercept_ - (self.lr * intercept_derivative)\n",
        "        #print(self.intercept_, self.coef_) # Debugging line moved inside the loop if needed\n",
        "\n",
        "        coef_derivative = -2 * np.dot((y_train - y_hat).T , x_train) / x_train.shape[0]\n",
        "        self.coef_ = self.coef_ - (self.lr * coef_derivative)\n",
        "      print(self.intercept_, self.coef_)\n",
        "    def predict(self, x_test):\n",
        "      return np.dot(x_test, self.coef_) + self.intercept_"
      ],
      "metadata": {
        "id": "_a4YNd7xlf7S"
      },
      "execution_count": null,
      "outputs": []
    },
    {
      "cell_type": "code",
      "source": [
        "gd = GDRegressor(epochs=1000, learning_rate=0.5)"
      ],
      "metadata": {
        "id": "EliLw2u2m5jd"
      },
      "execution_count": null,
      "outputs": []
    },
    {
      "cell_type": "code",
      "source": [
        "gd.fit(x_train, y_train)"
      ],
      "metadata": {
        "colab": {
          "base_uri": "https://localhost:8080/"
        },
        "id": "-QPOAkAcnBeU",
        "outputId": "66e3b429-7d99-4161-abd1-5b26cb372162"
      },
      "execution_count": null,
      "outputs": [
        {
          "output_type": "stream",
          "name": "stdout",
          "text": [
            "0 [1. 1. 1. 1. 1. 1. 1. 1. 1. 1.]\n",
            "151.372591059285 [  41.82977756 -203.23644652  509.6557063   325.07401153  -71.07194191\n",
            " -119.33187737 -215.85264692  144.71021659  376.52729984  111.97619094]\n"
          ]
        }
      ]
    },
    {
      "cell_type": "code",
      "source": [
        "yPred1 = gd.predict(x_test)"
      ],
      "metadata": {
        "id": "EqmrBhyrnFT5"
      },
      "execution_count": null,
      "outputs": []
    },
    {
      "cell_type": "code",
      "source": [
        "print(r2_score(y_test, yPred1))"
      ],
      "metadata": {
        "colab": {
          "base_uri": "https://localhost:8080/"
        },
        "id": "hTZYXeaw99VM",
        "outputId": "9854d7ee-ce24-48ad-912e-147d1cc12d4a"
      },
      "execution_count": null,
      "outputs": [
        {
          "output_type": "stream",
          "name": "stdout",
          "text": [
            "0.4588776166235029\n"
          ]
        }
      ]
    },
    {
      "cell_type": "code",
      "source": [],
      "metadata": {
        "id": "itKRNNKa-A2q"
      },
      "execution_count": null,
      "outputs": []
    }
  ]
}