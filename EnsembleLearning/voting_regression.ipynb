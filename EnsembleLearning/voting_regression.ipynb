{
  "nbformat": 4,
  "nbformat_minor": 0,
  "metadata": {
    "colab": {
      "provenance": [],
      "authorship_tag": "ABX9TyN/jh77qN5MX7XOWa40ZDLX",
      "include_colab_link": true
    },
    "kernelspec": {
      "name": "python3",
      "display_name": "Python 3"
    },
    "language_info": {
      "name": "python"
    }
  },
  "cells": [
    {
      "cell_type": "markdown",
      "metadata": {
        "id": "view-in-github",
        "colab_type": "text"
      },
      "source": [
        "<a href=\"https://colab.research.google.com/github/tarupathak30/machine_learning_algorithms/blob/main/EnsembleLearning/voting_regression.ipynb\" target=\"_parent\"><img src=\"https://colab.research.google.com/assets/colab-badge.svg\" alt=\"Open In Colab\"/></a>"
      ]
    },
    {
      "cell_type": "code",
      "execution_count": 2,
      "metadata": {
        "id": "EmI0e_c0kb3O"
      },
      "outputs": [],
      "source": [
        "from sklearn.datasets import fetch_california_housing\n",
        "import numpy as np"
      ]
    },
    {
      "cell_type": "code",
      "source": [
        "x, y = fetch_california_housing(return_X_y=True)"
      ],
      "metadata": {
        "id": "uSxGKv3zlqv-"
      },
      "execution_count": 3,
      "outputs": []
    },
    {
      "cell_type": "code",
      "source": [
        "print(x.shape, y.shape)"
      ],
      "metadata": {
        "colab": {
          "base_uri": "https://localhost:8080/"
        },
        "id": "u27ySUTRmHuP",
        "outputId": "6cce577f-f70d-4807-d200-fe051c4e1747"
      },
      "execution_count": 4,
      "outputs": [
        {
          "output_type": "stream",
          "name": "stdout",
          "text": [
            "(20640, 8) (20640,)\n"
          ]
        }
      ]
    },
    {
      "cell_type": "code",
      "source": [
        "from sklearn.linear_model import LinearRegression\n",
        "from sklearn.tree import DecisionTreeRegressor\n",
        "from sklearn.svm import SVR\n",
        "from sklearn.model_selection import cross_val_score"
      ],
      "metadata": {
        "id": "v6hOdgvAmPLk"
      },
      "execution_count": 5,
      "outputs": []
    },
    {
      "cell_type": "code",
      "source": [
        "lr = LinearRegression()\n",
        "dtree = DecisionTreeRegressor()\n",
        "svr = SVR()"
      ],
      "metadata": {
        "id": "awk7YX5ImsPI"
      },
      "execution_count": 6,
      "outputs": []
    },
    {
      "cell_type": "code",
      "source": [
        "estimators = [('lr', lr), ('dtree', dtree), ('svr', svr)]"
      ],
      "metadata": {
        "id": "eNVlP5Lemy_V"
      },
      "execution_count": 7,
      "outputs": []
    },
    {
      "cell_type": "code",
      "source": [
        "for estimator in estimators:\n",
        "  scores = cross_val_score(estimator[1], x, y, scoring='r2', cv=10)\n",
        "  print(estimator[0], np.round(np.mean(scores), 2))"
      ],
      "metadata": {
        "colab": {
          "base_uri": "https://localhost:8080/"
        },
        "id": "MZGuKjgmnCZD",
        "outputId": "aecd1161-effb-4f76-c1e9-8214be4e5b7c"
      },
      "execution_count": 8,
      "outputs": [
        {
          "output_type": "stream",
          "name": "stdout",
          "text": [
            "lr 0.51\n",
            "dtree 0.25\n",
            "svr -0.25\n"
          ]
        }
      ]
    },
    {
      "cell_type": "code",
      "source": [
        "from sklearn.ensemble import VotingRegressor"
      ],
      "metadata": {
        "id": "f4MdX2JHnSmA"
      },
      "execution_count": 9,
      "outputs": []
    },
    {
      "cell_type": "code",
      "source": [
        "vr = VotingRegressor(estimators=estimators)\n",
        "scores = cross_val_score(vr, x, y, scoring='r2', cv=10)\n",
        "print(\"Voting Regressor \", np.round(np.mean(scores), 2))"
      ],
      "metadata": {
        "colab": {
          "base_uri": "https://localhost:8080/"
        },
        "id": "IJhc5OkinpJl",
        "outputId": "6707797f-b6c5-4cba-c8f0-ba3b5d650975"
      },
      "execution_count": 12,
      "outputs": [
        {
          "output_type": "stream",
          "name": "stdout",
          "text": [
            "Voting Regressor  0.48\n"
          ]
        }
      ]
    },
    {
      "cell_type": "code",
      "source": [
        "for i in range(1, 4):\n",
        "  for j in range(1, 4):\n",
        "    for k in range(1, 4):\n",
        "      vr = VotingRegressor(estimators, weights=[i, j, k])\n",
        "      scores = cross_val_score(vr, x, y, scoring='r2', cv=10)\n",
        "      print(\"For i={}, j={}, k={}\".format(i, j, k), np.round(np.mean(scores), 2))"
      ],
      "metadata": {
        "colab": {
          "base_uri": "https://localhost:8080/"
        },
        "id": "ZxFRnTyqn_ir",
        "outputId": "46de83f8-1e9a-4339-8c20-302396724062"
      },
      "execution_count": 13,
      "outputs": [
        {
          "output_type": "stream",
          "name": "stdout",
          "text": [
            "For i=1, j=1, k=1 0.47\n",
            "For i=1, j=1, k=2 0.37\n",
            "For i=1, j=1, k=3 0.28\n",
            "For i=1, j=2, k=1 0.48\n",
            "For i=1, j=2, k=2 0.43\n",
            "For i=1, j=2, k=3 0.36\n",
            "For i=1, j=3, k=1 0.46\n",
            "For i=1, j=3, k=2 0.43\n",
            "For i=1, j=3, k=3 0.4\n",
            "For i=2, j=1, k=1 0.52\n",
            "For i=2, j=1, k=2 0.44\n",
            "For i=2, j=1, k=3 0.37\n",
            "For i=2, j=2, k=1 0.52\n",
            "For i=2, j=2, k=2 0.47\n",
            "For i=2, j=2, k=3 0.42\n",
            "For i=2, j=3, k=1 0.51\n",
            "For i=2, j=3, k=2 0.48\n",
            "For i=2, j=3, k=3 0.44\n",
            "For i=3, j=1, k=1 0.53\n",
            "For i=3, j=1, k=2 0.47\n",
            "For i=3, j=1, k=3 0.41\n",
            "For i=3, j=2, k=1 0.54\n",
            "For i=3, j=2, k=2 0.5\n",
            "For i=3, j=2, k=3 0.45\n",
            "For i=3, j=3, k=1 0.54\n",
            "For i=3, j=3, k=2 0.51\n",
            "For i=3, j=3, k=3 0.47\n"
          ]
        }
      ]
    },
    {
      "cell_type": "code",
      "source": [],
      "metadata": {
        "id": "8VgCSLdVpLVD"
      },
      "execution_count": null,
      "outputs": []
    }
  ]
}